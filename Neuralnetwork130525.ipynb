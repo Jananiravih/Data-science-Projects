{
 "cells": [
  {
   "cell_type": "code",
   "execution_count": 2,
   "id": "c0c02ca5-440a-407e-b625-5d89d02cbf96",
   "metadata": {},
   "outputs": [
    {
     "name": "stdout",
     "output_type": "stream",
     "text": [
      "Requirement already satisfied: tensorflow in c:\\users\\integrated\\anaconda3\\lib\\site-packages (2.18.0)\n",
      "Requirement already satisfied: tensorflow-intel==2.18.0 in c:\\users\\integrated\\anaconda3\\lib\\site-packages (from tensorflow) (2.18.0)\n",
      "Requirement already satisfied: absl-py>=1.0.0 in c:\\users\\integrated\\anaconda3\\lib\\site-packages (from tensorflow-intel==2.18.0->tensorflow) (2.1.0)\n",
      "Requirement already satisfied: astunparse>=1.6.0 in c:\\users\\integrated\\anaconda3\\lib\\site-packages (from tensorflow-intel==2.18.0->tensorflow) (1.6.3)\n",
      "Requirement already satisfied: flatbuffers>=24.3.25 in c:\\users\\integrated\\anaconda3\\lib\\site-packages (from tensorflow-intel==2.18.0->tensorflow) (25.2.10)\n",
      "Requirement already satisfied: gast!=0.5.0,!=0.5.1,!=0.5.2,>=0.2.1 in c:\\users\\integrated\\anaconda3\\lib\\site-packages (from tensorflow-intel==2.18.0->tensorflow) (0.6.0)\n",
      "Requirement already satisfied: google-pasta>=0.1.1 in c:\\users\\integrated\\anaconda3\\lib\\site-packages (from tensorflow-intel==2.18.0->tensorflow) (0.2.0)\n",
      "Requirement already satisfied: libclang>=13.0.0 in c:\\users\\integrated\\anaconda3\\lib\\site-packages (from tensorflow-intel==2.18.0->tensorflow) (18.1.1)\n",
      "Requirement already satisfied: opt-einsum>=2.3.2 in c:\\users\\integrated\\anaconda3\\lib\\site-packages (from tensorflow-intel==2.18.0->tensorflow) (3.4.0)\n",
      "Requirement already satisfied: packaging in c:\\users\\integrated\\anaconda3\\lib\\site-packages (from tensorflow-intel==2.18.0->tensorflow) (24.1)\n",
      "Requirement already satisfied: protobuf!=4.21.0,!=4.21.1,!=4.21.2,!=4.21.3,!=4.21.4,!=4.21.5,<6.0.0dev,>=3.20.3 in c:\\users\\integrated\\anaconda3\\lib\\site-packages (from tensorflow-intel==2.18.0->tensorflow) (4.25.3)\n",
      "Requirement already satisfied: requests<3,>=2.21.0 in c:\\users\\integrated\\anaconda3\\lib\\site-packages (from tensorflow-intel==2.18.0->tensorflow) (2.32.3)\n",
      "Requirement already satisfied: setuptools in c:\\users\\integrated\\anaconda3\\lib\\site-packages (from tensorflow-intel==2.18.0->tensorflow) (75.1.0)\n",
      "Requirement already satisfied: six>=1.12.0 in c:\\users\\integrated\\anaconda3\\lib\\site-packages (from tensorflow-intel==2.18.0->tensorflow) (1.16.0)\n",
      "Requirement already satisfied: termcolor>=1.1.0 in c:\\users\\integrated\\anaconda3\\lib\\site-packages (from tensorflow-intel==2.18.0->tensorflow) (2.5.0)\n",
      "Requirement already satisfied: typing-extensions>=3.6.6 in c:\\users\\integrated\\anaconda3\\lib\\site-packages (from tensorflow-intel==2.18.0->tensorflow) (4.11.0)\n",
      "Requirement already satisfied: wrapt>=1.11.0 in c:\\users\\integrated\\anaconda3\\lib\\site-packages (from tensorflow-intel==2.18.0->tensorflow) (1.14.1)\n",
      "Requirement already satisfied: grpcio<2.0,>=1.24.3 in c:\\users\\integrated\\anaconda3\\lib\\site-packages (from tensorflow-intel==2.18.0->tensorflow) (1.71.0)\n",
      "Requirement already satisfied: tensorboard<2.19,>=2.18 in c:\\users\\integrated\\anaconda3\\lib\\site-packages (from tensorflow-intel==2.18.0->tensorflow) (2.18.0)\n",
      "Requirement already satisfied: keras>=3.5.0 in c:\\users\\integrated\\anaconda3\\lib\\site-packages (from tensorflow-intel==2.18.0->tensorflow) (3.9.0)\n",
      "Requirement already satisfied: numpy<2.1.0,>=1.26.0 in c:\\users\\integrated\\anaconda3\\lib\\site-packages (from tensorflow-intel==2.18.0->tensorflow) (1.26.4)\n",
      "Requirement already satisfied: h5py>=3.11.0 in c:\\users\\integrated\\anaconda3\\lib\\site-packages (from tensorflow-intel==2.18.0->tensorflow) (3.11.0)\n",
      "Requirement already satisfied: ml-dtypes<0.5.0,>=0.4.0 in c:\\users\\integrated\\anaconda3\\lib\\site-packages (from tensorflow-intel==2.18.0->tensorflow) (0.4.1)\n",
      "Requirement already satisfied: wheel<1.0,>=0.23.0 in c:\\users\\integrated\\anaconda3\\lib\\site-packages (from astunparse>=1.6.0->tensorflow-intel==2.18.0->tensorflow) (0.44.0)\n",
      "Requirement already satisfied: rich in c:\\users\\integrated\\anaconda3\\lib\\site-packages (from keras>=3.5.0->tensorflow-intel==2.18.0->tensorflow) (13.7.1)\n",
      "Requirement already satisfied: namex in c:\\users\\integrated\\anaconda3\\lib\\site-packages (from keras>=3.5.0->tensorflow-intel==2.18.0->tensorflow) (0.0.8)\n",
      "Requirement already satisfied: optree in c:\\users\\integrated\\anaconda3\\lib\\site-packages (from keras>=3.5.0->tensorflow-intel==2.18.0->tensorflow) (0.14.1)\n",
      "Requirement already satisfied: charset-normalizer<4,>=2 in c:\\users\\integrated\\anaconda3\\lib\\site-packages (from requests<3,>=2.21.0->tensorflow-intel==2.18.0->tensorflow) (3.3.2)\n",
      "Requirement already satisfied: idna<4,>=2.5 in c:\\users\\integrated\\anaconda3\\lib\\site-packages (from requests<3,>=2.21.0->tensorflow-intel==2.18.0->tensorflow) (3.7)\n",
      "Requirement already satisfied: urllib3<3,>=1.21.1 in c:\\users\\integrated\\anaconda3\\lib\\site-packages (from requests<3,>=2.21.0->tensorflow-intel==2.18.0->tensorflow) (2.2.3)\n",
      "Requirement already satisfied: certifi>=2017.4.17 in c:\\users\\integrated\\anaconda3\\lib\\site-packages (from requests<3,>=2.21.0->tensorflow-intel==2.18.0->tensorflow) (2025.1.31)\n",
      "Requirement already satisfied: markdown>=2.6.8 in c:\\users\\integrated\\anaconda3\\lib\\site-packages (from tensorboard<2.19,>=2.18->tensorflow-intel==2.18.0->tensorflow) (3.4.1)\n",
      "Requirement already satisfied: tensorboard-data-server<0.8.0,>=0.7.0 in c:\\users\\integrated\\anaconda3\\lib\\site-packages (from tensorboard<2.19,>=2.18->tensorflow-intel==2.18.0->tensorflow) (0.7.2)\n",
      "Requirement already satisfied: werkzeug>=1.0.1 in c:\\users\\integrated\\anaconda3\\lib\\site-packages (from tensorboard<2.19,>=2.18->tensorflow-intel==2.18.0->tensorflow) (3.0.3)\n",
      "Requirement already satisfied: MarkupSafe>=2.1.1 in c:\\users\\integrated\\anaconda3\\lib\\site-packages (from werkzeug>=1.0.1->tensorboard<2.19,>=2.18->tensorflow-intel==2.18.0->tensorflow) (2.1.3)\n",
      "Requirement already satisfied: markdown-it-py>=2.2.0 in c:\\users\\integrated\\anaconda3\\lib\\site-packages (from rich->keras>=3.5.0->tensorflow-intel==2.18.0->tensorflow) (2.2.0)\n",
      "Requirement already satisfied: pygments<3.0.0,>=2.13.0 in c:\\users\\integrated\\anaconda3\\lib\\site-packages (from rich->keras>=3.5.0->tensorflow-intel==2.18.0->tensorflow) (2.15.1)\n",
      "Requirement already satisfied: mdurl~=0.1 in c:\\users\\integrated\\anaconda3\\lib\\site-packages (from markdown-it-py>=2.2.0->rich->keras>=3.5.0->tensorflow-intel==2.18.0->tensorflow) (0.1.0)\n"
     ]
    }
   ],
   "source": [
    "!pip install tensorflow"
   ]
  },
  {
   "cell_type": "code",
   "execution_count": 4,
   "id": "87c37a17-a26e-4d15-b747-21c43d16c112",
   "metadata": {},
   "outputs": [
    {
     "name": "stdout",
     "output_type": "stream",
     "text": [
      "Requirement already satisfied: keras in c:\\users\\integrated\\anaconda3\\lib\\site-packages (3.9.0)\n",
      "Requirement already satisfied: absl-py in c:\\users\\integrated\\anaconda3\\lib\\site-packages (from keras) (2.1.0)\n",
      "Requirement already satisfied: numpy in c:\\users\\integrated\\anaconda3\\lib\\site-packages (from keras) (1.26.4)\n",
      "Requirement already satisfied: rich in c:\\users\\integrated\\anaconda3\\lib\\site-packages (from keras) (13.7.1)\n",
      "Requirement already satisfied: namex in c:\\users\\integrated\\anaconda3\\lib\\site-packages (from keras) (0.0.8)\n",
      "Requirement already satisfied: h5py in c:\\users\\integrated\\anaconda3\\lib\\site-packages (from keras) (3.11.0)\n",
      "Requirement already satisfied: optree in c:\\users\\integrated\\anaconda3\\lib\\site-packages (from keras) (0.14.1)\n",
      "Requirement already satisfied: ml-dtypes in c:\\users\\integrated\\anaconda3\\lib\\site-packages (from keras) (0.4.1)\n",
      "Requirement already satisfied: packaging in c:\\users\\integrated\\anaconda3\\lib\\site-packages (from keras) (24.1)\n",
      "Requirement already satisfied: typing-extensions>=4.5.0 in c:\\users\\integrated\\anaconda3\\lib\\site-packages (from optree->keras) (4.11.0)\n",
      "Requirement already satisfied: markdown-it-py>=2.2.0 in c:\\users\\integrated\\anaconda3\\lib\\site-packages (from rich->keras) (2.2.0)\n",
      "Requirement already satisfied: pygments<3.0.0,>=2.13.0 in c:\\users\\integrated\\anaconda3\\lib\\site-packages (from rich->keras) (2.15.1)\n",
      "Requirement already satisfied: mdurl~=0.1 in c:\\users\\integrated\\anaconda3\\lib\\site-packages (from markdown-it-py>=2.2.0->rich->keras) (0.1.0)\n"
     ]
    }
   ],
   "source": [
    "!pip install keras"
   ]
  },
  {
   "cell_type": "code",
   "execution_count": 6,
   "id": "cccef0a5-9608-49d7-9c53-1a8421f1c392",
   "metadata": {},
   "outputs": [
    {
     "name": "stdout",
     "output_type": "stream",
     "text": [
      "Collecting pydot\n",
      "  Downloading pydot-4.0.0-py3-none-any.whl.metadata (10 kB)\n",
      "Requirement already satisfied: pyparsing>=3.0.9 in c:\\users\\integrated\\anaconda3\\lib\\site-packages (from pydot) (3.1.2)\n",
      "Downloading pydot-4.0.0-py3-none-any.whl (37 kB)\n",
      "Installing collected packages: pydot\n",
      "Successfully installed pydot-4.0.0\n"
     ]
    }
   ],
   "source": [
    "!pip install pydot\n"
   ]
  },
  {
   "cell_type": "code",
   "execution_count": 8,
   "id": "63eb7f4e-fe7e-406e-be57-4c6b3140ceda",
   "metadata": {},
   "outputs": [],
   "source": [
    "import pandas as pd\n",
    "import numpy as np\n",
    "\n",
    "from sklearn.metrics import accuracy_score"
   ]
  },
  {
   "cell_type": "code",
   "execution_count": 10,
   "id": "d82c56bb-ae99-471c-bf02-124d81613c75",
   "metadata": {},
   "outputs": [],
   "source": [
    "from keras.layers import Dense,Dropout\n",
    "from keras.datasets import mnist\n",
    "from keras.models import Sequential\n",
    "from keras.optimizers import RMSprop\n",
    "from tensorflow.keras.utils import plot_model\n"
   ]
  },
  {
   "cell_type": "code",
   "execution_count": 16,
   "id": "126e2141-f159-43f7-990f-95be38518af5",
   "metadata": {},
   "outputs": [
    {
     "name": "stdout",
     "output_type": "stream",
     "text": [
      "  letter  xbox  ybox  width  height  onpix  xbar  ybar  x2bar  y2bar  xybar  \\\n",
      "0      T     2     8      3       5      1     8    13      0      6      6   \n",
      "1      I     5    12      3       7      2    10     5      5      4     13   \n",
      "2      D     4    11      6       8      6    10     6      2      6     10   \n",
      "3      N     7    11      6       6      3     5     9      4      6      4   \n",
      "4      G     2     1      3       1      1     8     6      6      6      6   \n",
      "\n",
      "   x2ybar  xy2bar  xedge  xedgey  yedge  yedgex  \n",
      "0      10       8      0       8      0       8  \n",
      "1       3       9      2       8      4      10  \n",
      "2       3       7      3       7      3       9  \n",
      "3       4      10      6      10      2       8  \n",
      "4       5       9      1       7      5      10  \n"
     ]
    }
   ],
   "source": [
    "import pandas as pd\n",
    "\n",
    "try:\n",
    "    df = pd.read_csv(r\"C:\\Users\\Integrated\\Documents\\Python\\Alphabets_data.csv\")\n",
    "except FileNotFoundError:\n",
    "    print(\"The file was not found. Please check the file path and try again.\")\n",
    "else:\n",
    "    print(df.head())\n"
   ]
  },
  {
   "cell_type": "code",
   "execution_count": 18,
   "id": "4b3aa1f8-e9a9-49c9-ab51-3fd7f8a115f8",
   "metadata": {},
   "outputs": [
    {
     "name": "stdout",
     "output_type": "stream",
     "text": [
      "<class 'pandas.core.frame.DataFrame'>\n",
      "RangeIndex: 20000 entries, 0 to 19999\n",
      "Data columns (total 17 columns):\n",
      " #   Column  Non-Null Count  Dtype \n",
      "---  ------  --------------  ----- \n",
      " 0   letter  20000 non-null  object\n",
      " 1   xbox    20000 non-null  int64 \n",
      " 2   ybox    20000 non-null  int64 \n",
      " 3   width   20000 non-null  int64 \n",
      " 4   height  20000 non-null  int64 \n",
      " 5   onpix   20000 non-null  int64 \n",
      " 6   xbar    20000 non-null  int64 \n",
      " 7   ybar    20000 non-null  int64 \n",
      " 8   x2bar   20000 non-null  int64 \n",
      " 9   y2bar   20000 non-null  int64 \n",
      " 10  xybar   20000 non-null  int64 \n",
      " 11  x2ybar  20000 non-null  int64 \n",
      " 12  xy2bar  20000 non-null  int64 \n",
      " 13  xedge   20000 non-null  int64 \n",
      " 14  xedgey  20000 non-null  int64 \n",
      " 15  yedge   20000 non-null  int64 \n",
      " 16  yedgex  20000 non-null  int64 \n",
      "dtypes: int64(16), object(1)\n",
      "memory usage: 2.6+ MB\n",
      "None\n"
     ]
    }
   ],
   "source": [
    "print(df.info())\n"
   ]
  },
  {
   "cell_type": "code",
   "execution_count": 20,
   "id": "1de8f783-d36d-4d77-aa21-8a418302c832",
   "metadata": {},
   "outputs": [
    {
     "data": {
      "text/plain": [
       "letter    0\n",
       "xbox      0\n",
       "ybox      0\n",
       "width     0\n",
       "height    0\n",
       "onpix     0\n",
       "xbar      0\n",
       "ybar      0\n",
       "x2bar     0\n",
       "y2bar     0\n",
       "xybar     0\n",
       "x2ybar    0\n",
       "xy2bar    0\n",
       "xedge     0\n",
       "xedgey    0\n",
       "yedge     0\n",
       "yedgex    0\n",
       "dtype: int64"
      ]
     },
     "execution_count": 20,
     "metadata": {},
     "output_type": "execute_result"
    }
   ],
   "source": [
    "df.isnull().sum()\n"
   ]
  },
  {
   "cell_type": "code",
   "execution_count": 22,
   "id": "402df1ed-32b4-4906-9fce-c08a670d68d2",
   "metadata": {},
   "outputs": [
    {
     "name": "stdout",
     "output_type": "stream",
     "text": [
      "           xbox      ybox     width    height     onpix      xbar      ybar  \\\n",
      "0     -1.057698  0.291877 -1.053277 -0.164704 -1.144013  0.544130  2.365097   \n",
      "1      0.510385  1.502358 -1.053277  0.719730 -0.687476  1.531305 -1.075326   \n",
      "2     -0.012309  1.199738  0.435910  1.161947  1.138672  1.531305 -0.645273   \n",
      "3      1.555774  1.199738  0.435910  0.277513 -0.230939 -0.936631  0.644886   \n",
      "4     -1.057698 -1.826464 -1.053277 -1.933571 -1.144013  0.544130 -0.645273   \n",
      "...         ...       ...       ...       ...       ...       ...       ...   \n",
      "19995 -1.057698 -1.523844 -1.053277 -1.049137 -0.687476  0.050543 -0.215220   \n",
      "19996  1.555774  0.897117  1.428701  1.161947  0.225598 -1.430218  0.214833   \n",
      "19997  1.033079  0.594497  0.435910  0.719730  0.682135 -0.443044  1.504991   \n",
      "19998 -1.057698 -1.221224 -0.556881 -1.491354 -1.144013  0.544130 -0.215220   \n",
      "19999 -0.012309  0.594497  0.435910  0.277513 -0.687476  1.037718 -1.075326   \n",
      "\n",
      "          x2bar     y2bar     xybar    x2ybar    xy2bar     xedge    xedgey  \\\n",
      "0     -1.714360  0.344994 -0.917071  1.347774  0.034125 -1.305948 -0.219082   \n",
      "1      0.137561 -0.495072  1.895968 -1.312807  0.514764 -0.448492 -0.219082   \n",
      "2     -0.973591  0.344994  0.690380 -1.312807 -0.446513 -0.019764 -0.865626   \n",
      "3     -0.232823  0.344994 -1.720796 -0.932724  0.995402  1.266419  1.074008   \n",
      "4      0.507945  0.344994 -0.917071 -0.552641  0.514764 -0.877220 -0.865626   \n",
      "...         ...       ...       ...       ...       ...       ...       ...   \n",
      "19995  0.878329  0.344994 -0.917071 -0.172558 -1.888428 -0.448492 -0.219082   \n",
      "19996  0.507945  1.605094  1.494105  0.967691  2.437316 -0.448492  0.427463   \n",
      "19997 -0.603207  0.765028  1.092242  0.967691 -1.407789 -0.448492  2.367097   \n",
      "19998 -0.973591  0.344994  0.690380 -0.172558  0.034125 -0.877220  0.427463   \n",
      "19999 -0.603207 -1.755172 -0.113345 -2.072973  0.034125 -0.448492 -0.865626   \n",
      "\n",
      "          yedge    yedgex  \n",
      "0     -1.438153  0.122911  \n",
      "1      0.120081  1.359441  \n",
      "2     -0.269477  0.741176  \n",
      "3     -0.659036  0.122911  \n",
      "4      0.509640  1.359441  \n",
      "...         ...       ...  \n",
      "19995 -0.269477 -0.495354  \n",
      "19996 -0.269477 -0.495354  \n",
      "19997 -0.659036 -2.350149  \n",
      "19998  0.509640  0.122911  \n",
      "19999 -0.659036  0.122911  \n",
      "\n",
      "[20000 rows x 16 columns]\n"
     ]
    }
   ],
   "source": [
    "## Normalization\n",
    "\n",
    "from sklearn.preprocessing import StandardScaler\n",
    "scaler = StandardScaler()\n",
    "df_scaled = pd.DataFrame(scaler.fit_transform(df.iloc[:, 1:]), columns=df.columns[1:])\n",
    "print(df_scaled )"
   ]
  },
  {
   "cell_type": "code",
   "execution_count": 24,
   "id": "8b74dc45-9792-4f22-93d9-fd3feed0cd45",
   "metadata": {},
   "outputs": [
    {
     "name": "stdout",
     "output_type": "stream",
     "text": [
      "[[-1.0576983   0.29187713 -1.05327668 ... -0.21908163 -1.4381527\n",
      "   0.12291107]\n",
      " [ 0.51038497  1.5023577  -1.05327668 ... -0.21908163  0.12008142\n",
      "   1.35944092]\n",
      " [-0.01230945  1.19973756  0.43590966 ... -0.8656262  -0.26947711\n",
      "   0.74117599]\n",
      " ...\n",
      " [ 1.03307939  0.59449727  0.43590966 ...  2.36709667 -0.65903564\n",
      "  -2.35014863]\n",
      " [-1.0576983  -1.22122359 -0.55688123 ...  0.42746295  0.50963994\n",
      "   0.12291107]\n",
      " [-0.01230945  0.59449727  0.43590966 ... -0.8656262  -0.65903564\n",
      "   0.12291107]]\n",
      "0        T\n",
      "1        I\n",
      "2        D\n",
      "3        N\n",
      "4        G\n",
      "        ..\n",
      "19995    D\n",
      "19996    C\n",
      "19997    T\n",
      "19998    S\n",
      "19999    A\n",
      "Name: letter, Length: 20000, dtype: object\n"
     ]
    }
   ],
   "source": [
    "## Define X and Y\n",
    "X = df_scaled.values  # Features\n",
    "Y = df['letter']  # Labels\n",
    "print(X)\n",
    "print(Y)"
   ]
  },
  {
   "cell_type": "code",
   "execution_count": 26,
   "id": "a94ceb92-9b1a-49c4-81e3-52b2acecacd9",
   "metadata": {},
   "outputs": [],
   "source": [
    "# Encode Lables\n",
    "from sklearn.preprocessing import LabelEncoder\n",
    "encoder = LabelEncoder()\n",
    "Y_encoded = encoder.fit_transform(Y)\n"
   ]
  },
  {
   "cell_type": "code",
   "execution_count": 28,
   "id": "6f7e9a81-8676-4f6a-8c23-fc3a1d11227b",
   "metadata": {},
   "outputs": [
    {
     "name": "stdout",
     "output_type": "stream",
     "text": [
      "(16000, 16)\n",
      "(4000, 16)\n",
      "(16000,)\n",
      "(4000,)\n"
     ]
    }
   ],
   "source": [
    "# split the data set\n",
    "from sklearn.model_selection import train_test_split\n",
    "X_train, X_test, Y_train, Y_test = train_test_split(X, Y_encoded, test_size=0.2, random_state=42)\n",
    "print(X_train.shape)\n",
    "print(X_test.shape)\n",
    "print(Y_train.shape)\n",
    "print(Y_test.shape)"
   ]
  },
  {
   "cell_type": "code",
   "execution_count": 30,
   "id": "0c301b44-481d-4ff8-87f4-8f1ee353ffad",
   "metadata": {},
   "outputs": [
    {
     "name": "stderr",
     "output_type": "stream",
     "text": [
      "C:\\Users\\Integrated\\anaconda3\\Lib\\site-packages\\keras\\src\\layers\\core\\dense.py:87: UserWarning: Do not pass an `input_shape`/`input_dim` argument to a layer. When using Sequential models, prefer using an `Input(shape)` object as the first layer in the model instead.\n",
      "  super().__init__(activity_regularizer=activity_regularizer, **kwargs)\n"
     ]
    },
    {
     "data": {
      "text/html": [
       "<pre style=\"white-space:pre;overflow-x:auto;line-height:normal;font-family:Menlo,'DejaVu Sans Mono',consolas,'Courier New',monospace\"><span style=\"font-weight: bold\">Model: \"sequential\"</span>\n",
       "</pre>\n"
      ],
      "text/plain": [
       "\u001b[1mModel: \"sequential\"\u001b[0m\n"
      ]
     },
     "metadata": {},
     "output_type": "display_data"
    },
    {
     "data": {
      "text/html": [
       "<pre style=\"white-space:pre;overflow-x:auto;line-height:normal;font-family:Menlo,'DejaVu Sans Mono',consolas,'Courier New',monospace\">┏━━━━━━━━━━━━━━━━━━━━━━━━━━━━━━━━━┳━━━━━━━━━━━━━━━━━━━━━━━━┳━━━━━━━━━━━━━━━┓\n",
       "┃<span style=\"font-weight: bold\"> Layer (type)                    </span>┃<span style=\"font-weight: bold\"> Output Shape           </span>┃<span style=\"font-weight: bold\">       Param # </span>┃\n",
       "┡━━━━━━━━━━━━━━━━━━━━━━━━━━━━━━━━━╇━━━━━━━━━━━━━━━━━━━━━━━━╇━━━━━━━━━━━━━━━┩\n",
       "│ dense (<span style=\"color: #0087ff; text-decoration-color: #0087ff\">Dense</span>)                   │ (<span style=\"color: #00d7ff; text-decoration-color: #00d7ff\">None</span>, <span style=\"color: #00af00; text-decoration-color: #00af00\">128</span>)            │         <span style=\"color: #00af00; text-decoration-color: #00af00\">2,176</span> │\n",
       "├─────────────────────────────────┼────────────────────────┼───────────────┤\n",
       "│ dense_1 (<span style=\"color: #0087ff; text-decoration-color: #0087ff\">Dense</span>)                 │ (<span style=\"color: #00d7ff; text-decoration-color: #00d7ff\">None</span>, <span style=\"color: #00af00; text-decoration-color: #00af00\">64</span>)             │         <span style=\"color: #00af00; text-decoration-color: #00af00\">8,256</span> │\n",
       "├─────────────────────────────────┼────────────────────────┼───────────────┤\n",
       "│ dense_2 (<span style=\"color: #0087ff; text-decoration-color: #0087ff\">Dense</span>)                 │ (<span style=\"color: #00d7ff; text-decoration-color: #00d7ff\">None</span>, <span style=\"color: #00af00; text-decoration-color: #00af00\">26</span>)             │         <span style=\"color: #00af00; text-decoration-color: #00af00\">1,690</span> │\n",
       "└─────────────────────────────────┴────────────────────────┴───────────────┘\n",
       "</pre>\n"
      ],
      "text/plain": [
       "┏━━━━━━━━━━━━━━━━━━━━━━━━━━━━━━━━━┳━━━━━━━━━━━━━━━━━━━━━━━━┳━━━━━━━━━━━━━━━┓\n",
       "┃\u001b[1m \u001b[0m\u001b[1mLayer (type)                   \u001b[0m\u001b[1m \u001b[0m┃\u001b[1m \u001b[0m\u001b[1mOutput Shape          \u001b[0m\u001b[1m \u001b[0m┃\u001b[1m \u001b[0m\u001b[1m      Param #\u001b[0m\u001b[1m \u001b[0m┃\n",
       "┡━━━━━━━━━━━━━━━━━━━━━━━━━━━━━━━━━╇━━━━━━━━━━━━━━━━━━━━━━━━╇━━━━━━━━━━━━━━━┩\n",
       "│ dense (\u001b[38;5;33mDense\u001b[0m)                   │ (\u001b[38;5;45mNone\u001b[0m, \u001b[38;5;34m128\u001b[0m)            │         \u001b[38;5;34m2,176\u001b[0m │\n",
       "├─────────────────────────────────┼────────────────────────┼───────────────┤\n",
       "│ dense_1 (\u001b[38;5;33mDense\u001b[0m)                 │ (\u001b[38;5;45mNone\u001b[0m, \u001b[38;5;34m64\u001b[0m)             │         \u001b[38;5;34m8,256\u001b[0m │\n",
       "├─────────────────────────────────┼────────────────────────┼───────────────┤\n",
       "│ dense_2 (\u001b[38;5;33mDense\u001b[0m)                 │ (\u001b[38;5;45mNone\u001b[0m, \u001b[38;5;34m26\u001b[0m)             │         \u001b[38;5;34m1,690\u001b[0m │\n",
       "└─────────────────────────────────┴────────────────────────┴───────────────┘\n"
      ]
     },
     "metadata": {},
     "output_type": "display_data"
    },
    {
     "data": {
      "text/html": [
       "<pre style=\"white-space:pre;overflow-x:auto;line-height:normal;font-family:Menlo,'DejaVu Sans Mono',consolas,'Courier New',monospace\"><span style=\"font-weight: bold\"> Total params: </span><span style=\"color: #00af00; text-decoration-color: #00af00\">12,122</span> (47.35 KB)\n",
       "</pre>\n"
      ],
      "text/plain": [
       "\u001b[1m Total params: \u001b[0m\u001b[38;5;34m12,122\u001b[0m (47.35 KB)\n"
      ]
     },
     "metadata": {},
     "output_type": "display_data"
    },
    {
     "data": {
      "text/html": [
       "<pre style=\"white-space:pre;overflow-x:auto;line-height:normal;font-family:Menlo,'DejaVu Sans Mono',consolas,'Courier New',monospace\"><span style=\"font-weight: bold\"> Trainable params: </span><span style=\"color: #00af00; text-decoration-color: #00af00\">12,122</span> (47.35 KB)\n",
       "</pre>\n"
      ],
      "text/plain": [
       "\u001b[1m Trainable params: \u001b[0m\u001b[38;5;34m12,122\u001b[0m (47.35 KB)\n"
      ]
     },
     "metadata": {},
     "output_type": "display_data"
    },
    {
     "data": {
      "text/html": [
       "<pre style=\"white-space:pre;overflow-x:auto;line-height:normal;font-family:Menlo,'DejaVu Sans Mono',consolas,'Courier New',monospace\"><span style=\"font-weight: bold\"> Non-trainable params: </span><span style=\"color: #00af00; text-decoration-color: #00af00\">0</span> (0.00 B)\n",
       "</pre>\n"
      ],
      "text/plain": [
       "\u001b[1m Non-trainable params: \u001b[0m\u001b[38;5;34m0\u001b[0m (0.00 B)\n"
      ]
     },
     "metadata": {},
     "output_type": "display_data"
    }
   ],
   "source": [
    "## ANN Model \n",
    "import keras\n",
    "import tensorflow as tf\n",
    "from tensorflow.keras import Sequential\n",
    "from tensorflow.keras.layers import Dense\n",
    "\n",
    "model = Sequential()\n",
    "model.add(Dense(128, input_dim=X_train.shape[1], activation='relu'))\n",
    "model.add(Dense(64, activation='relu'))\n",
    "model.add(Dense(len(encoder.classes_), activation='softmax'))  # Output layer for classification\n",
    "model.summary()\n"
   ]
  },
  {
   "cell_type": "code",
   "execution_count": 32,
   "id": "852ae58b-5386-4241-ac36-9dacb93423ba",
   "metadata": {},
   "outputs": [
    {
     "name": "stdout",
     "output_type": "stream",
     "text": [
      "Collecting graphviz\n",
      "  Downloading graphviz-0.20.3-py3-none-any.whl.metadata (12 kB)\n",
      "Downloading graphviz-0.20.3-py3-none-any.whl (47 kB)\n",
      "Installing collected packages: graphviz\n",
      "Successfully installed graphviz-0.20.3\n"
     ]
    }
   ],
   "source": [
    "!pip install graphviz\n"
   ]
  },
  {
   "cell_type": "code",
   "execution_count": 34,
   "id": "68da4bf2-53a8-4198-a033-c940d379b752",
   "metadata": {},
   "outputs": [
    {
     "name": "stdout",
     "output_type": "stream",
     "text": [
      "You must install graphviz (see instructions at https://graphviz.gitlab.io/download/) for `plot_model` to work.\n"
     ]
    }
   ],
   "source": [
    "plot_model(model, show_shapes=True, show_layer_names=True)\n"
   ]
  },
  {
   "cell_type": "code",
   "execution_count": 36,
   "id": "79a53a21-5173-4a0d-93a1-d2d240ec6dd4",
   "metadata": {},
   "outputs": [
    {
     "name": "stdout",
     "output_type": "stream",
     "text": [
      "Epoch 1/20\n",
      "\u001b[1m400/400\u001b[0m \u001b[32m━━━━━━━━━━━━━━━━━━━━\u001b[0m\u001b[37m\u001b[0m \u001b[1m2s\u001b[0m 2ms/step - accuracy: 0.4226 - loss: 2.1619 - val_accuracy: 0.7494 - val_loss: 0.9038\n",
      "Epoch 2/20\n",
      "\u001b[1m400/400\u001b[0m \u001b[32m━━━━━━━━━━━━━━━━━━━━\u001b[0m\u001b[37m\u001b[0m \u001b[1m1s\u001b[0m 1ms/step - accuracy: 0.7747 - loss: 0.7961 - val_accuracy: 0.8112 - val_loss: 0.6666\n",
      "Epoch 3/20\n",
      "\u001b[1m400/400\u001b[0m \u001b[32m━━━━━━━━━━━━━━━━━━━━\u001b[0m\u001b[37m\u001b[0m \u001b[1m1s\u001b[0m 1ms/step - accuracy: 0.8306 - loss: 0.5960 - val_accuracy: 0.8394 - val_loss: 0.5408\n",
      "Epoch 4/20\n",
      "\u001b[1m400/400\u001b[0m \u001b[32m━━━━━━━━━━━━━━━━━━━━\u001b[0m\u001b[37m\u001b[0m \u001b[1m1s\u001b[0m 1ms/step - accuracy: 0.8620 - loss: 0.4813 - val_accuracy: 0.8650 - val_loss: 0.4628\n",
      "Epoch 5/20\n",
      "\u001b[1m400/400\u001b[0m \u001b[32m━━━━━━━━━━━━━━━━━━━━\u001b[0m\u001b[37m\u001b[0m \u001b[1m1s\u001b[0m 2ms/step - accuracy: 0.8842 - loss: 0.4026 - val_accuracy: 0.8806 - val_loss: 0.4010\n",
      "Epoch 6/20\n",
      "\u001b[1m400/400\u001b[0m \u001b[32m━━━━━━━━━━━━━━━━━━━━\u001b[0m\u001b[37m\u001b[0m \u001b[1m1s\u001b[0m 1ms/step - accuracy: 0.8981 - loss: 0.3391 - val_accuracy: 0.8881 - val_loss: 0.3630\n",
      "Epoch 7/20\n",
      "\u001b[1m400/400\u001b[0m \u001b[32m━━━━━━━━━━━━━━━━━━━━\u001b[0m\u001b[37m\u001b[0m \u001b[1m1s\u001b[0m 1ms/step - accuracy: 0.9106 - loss: 0.2968 - val_accuracy: 0.9056 - val_loss: 0.3190\n",
      "Epoch 8/20\n",
      "\u001b[1m400/400\u001b[0m \u001b[32m━━━━━━━━━━━━━━━━━━━━\u001b[0m\u001b[37m\u001b[0m \u001b[1m1s\u001b[0m 1ms/step - accuracy: 0.9243 - loss: 0.2623 - val_accuracy: 0.9059 - val_loss: 0.3016\n",
      "Epoch 9/20\n",
      "\u001b[1m400/400\u001b[0m \u001b[32m━━━━━━━━━━━━━━━━━━━━\u001b[0m\u001b[37m\u001b[0m \u001b[1m1s\u001b[0m 1ms/step - accuracy: 0.9314 - loss: 0.2355 - val_accuracy: 0.9159 - val_loss: 0.2767\n",
      "Epoch 10/20\n",
      "\u001b[1m400/400\u001b[0m \u001b[32m━━━━━━━━━━━━━━━━━━━━\u001b[0m\u001b[37m\u001b[0m \u001b[1m1s\u001b[0m 1ms/step - accuracy: 0.9358 - loss: 0.2188 - val_accuracy: 0.9175 - val_loss: 0.2663\n",
      "Epoch 11/20\n",
      "\u001b[1m400/400\u001b[0m \u001b[32m━━━━━━━━━━━━━━━━━━━━\u001b[0m\u001b[37m\u001b[0m \u001b[1m1s\u001b[0m 1ms/step - accuracy: 0.9412 - loss: 0.1906 - val_accuracy: 0.9256 - val_loss: 0.2422\n",
      "Epoch 12/20\n",
      "\u001b[1m400/400\u001b[0m \u001b[32m━━━━━━━━━━━━━━━━━━━━\u001b[0m\u001b[37m\u001b[0m \u001b[1m1s\u001b[0m 2ms/step - accuracy: 0.9492 - loss: 0.1706 - val_accuracy: 0.9303 - val_loss: 0.2366\n",
      "Epoch 13/20\n",
      "\u001b[1m400/400\u001b[0m \u001b[32m━━━━━━━━━━━━━━━━━━━━\u001b[0m\u001b[37m\u001b[0m \u001b[1m1s\u001b[0m 2ms/step - accuracy: 0.9508 - loss: 0.1612 - val_accuracy: 0.9322 - val_loss: 0.2257\n",
      "Epoch 14/20\n",
      "\u001b[1m400/400\u001b[0m \u001b[32m━━━━━━━━━━━━━━━━━━━━\u001b[0m\u001b[37m\u001b[0m \u001b[1m1s\u001b[0m 1ms/step - accuracy: 0.9562 - loss: 0.1465 - val_accuracy: 0.9347 - val_loss: 0.2131\n",
      "Epoch 15/20\n",
      "\u001b[1m400/400\u001b[0m \u001b[32m━━━━━━━━━━━━━━━━━━━━\u001b[0m\u001b[37m\u001b[0m \u001b[1m1s\u001b[0m 1ms/step - accuracy: 0.9607 - loss: 0.1335 - val_accuracy: 0.9294 - val_loss: 0.2112\n",
      "Epoch 16/20\n",
      "\u001b[1m400/400\u001b[0m \u001b[32m━━━━━━━━━━━━━━━━━━━━\u001b[0m\u001b[37m\u001b[0m \u001b[1m1s\u001b[0m 1ms/step - accuracy: 0.9618 - loss: 0.1266 - val_accuracy: 0.9350 - val_loss: 0.2036\n",
      "Epoch 17/20\n",
      "\u001b[1m400/400\u001b[0m \u001b[32m━━━━━━━━━━━━━━━━━━━━\u001b[0m\u001b[37m\u001b[0m \u001b[1m1s\u001b[0m 1ms/step - accuracy: 0.9645 - loss: 0.1164 - val_accuracy: 0.9350 - val_loss: 0.2014\n",
      "Epoch 18/20\n",
      "\u001b[1m400/400\u001b[0m \u001b[32m━━━━━━━━━━━━━━━━━━━━\u001b[0m\u001b[37m\u001b[0m \u001b[1m1s\u001b[0m 1ms/step - accuracy: 0.9637 - loss: 0.1147 - val_accuracy: 0.9434 - val_loss: 0.1853\n",
      "Epoch 19/20\n",
      "\u001b[1m400/400\u001b[0m \u001b[32m━━━━━━━━━━━━━━━━━━━━\u001b[0m\u001b[37m\u001b[0m \u001b[1m1s\u001b[0m 1ms/step - accuracy: 0.9707 - loss: 0.0998 - val_accuracy: 0.9434 - val_loss: 0.1890\n",
      "Epoch 20/20\n",
      "\u001b[1m400/400\u001b[0m \u001b[32m━━━━━━━━━━━━━━━━━━━━\u001b[0m\u001b[37m\u001b[0m \u001b[1m1s\u001b[0m 2ms/step - accuracy: 0.9742 - loss: 0.0922 - val_accuracy: 0.9434 - val_loss: 0.1849\n"
     ]
    }
   ],
   "source": [
    "#Initial model with  parameters\n",
    "model.compile(optimizer='adam', loss='sparse_categorical_crossentropy', metrics=['accuracy']) ## optimizer = RMSprop or adam\n",
    "history = model.fit(X_train, Y_train, epochs=20, batch_size=32, validation_split=0.2)\n"
   ]
  },
  {
   "cell_type": "code",
   "execution_count": 38,
   "id": "97ba7c8c-fde0-413e-a475-b893dfbe9754",
   "metadata": {},
   "outputs": [
    {
     "data": {
      "image/png": "[encoded data removed]",
      "text/plain": [
       "<Figure size 640x480 with 1 Axes>"
      ]
     },
     "metadata": {},
     "output_type": "display_data"
    }
   ],
   "source": [
    "import matplotlib.pyplot as plt\n",
    "\n",
    "# Assuming history.history['accuracy'] contains accuracy values\n",
    "plt.plot(range(len(history.history['accuracy'])), history.history['accuracy'], label='train')\n",
    "plt.plot(range(len(history.history['val_accuracy'])), history.history['val_accuracy'], label='test')\n",
    "plt.xlabel('Epochs')\n",
    "plt.ylabel('Accuracy')\n",
    "plt.legend()\n",
    "plt.show()\n",
    "\n"
   ]
  },
  {
   "cell_type": "code",
   "execution_count": 40,
   "id": "cecdb8be-097d-4d2a-9b8a-bb3bba9be96a",
   "metadata": {},
   "outputs": [
    {
     "data": {
      "image/png": "[encoded data removed]",
      "text/plain": [
       "<Figure size 640x480 with 1 Axes>"
      ]
     },
     "metadata": {},
     "output_type": "display_data"
    }
   ],
   "source": [
    "import matplotlib.pyplot as plt\n",
    "\n",
    "# Assuming history.history['accuracy'] contains accuracy values\n",
    "plt.plot(range(len(history.history['loss'])), history.history['loss'], label='train')\n",
    "plt.plot(range(len(history.history['val_loss'])), history.history['val_loss'], label='test')\n",
    "plt.xlabel('Epochs')\n",
    "plt.ylabel('Accuracy')\n",
    "plt.legend()\n",
    "plt.show()\n",
    "\n"
   ]
  },
  {
   "cell_type": "code",
   "execution_count": 42,
   "id": "147ba257-553d-42d0-a223-ec3b37175fa2",
   "metadata": {},
   "outputs": [
    {
     "name": "stdout",
     "output_type": "stream",
     "text": [
      "\u001b[1m125/125\u001b[0m \u001b[32m━━━━━━━━━━━━━━━━━━━━\u001b[0m\u001b[37m\u001b[0m \u001b[1m0s\u001b[0m 790us/step\n"
     ]
    }
   ],
   "source": [
    "Y_pred=model.predict(X_test)"
   ]
  },
  {
   "cell_type": "code",
   "execution_count": 44,
   "id": "5f5a7baa-ffa1-462c-9dfc-0663c6e31b69",
   "metadata": {},
   "outputs": [
    {
     "data": {
      "text/plain": [
       "19"
      ]
     },
     "execution_count": 44,
     "metadata": {},
     "output_type": "execute_result"
    }
   ],
   "source": [
    "\n",
    "Y_test[0]"
   ]
  },
  {
   "cell_type": "code",
   "execution_count": 46,
   "id": "83fcb6d0-6ea9-4fe5-9c2f-954fe931e162",
   "metadata": {},
   "outputs": [
    {
     "data": {
      "text/plain": [
       "23"
      ]
     },
     "execution_count": 46,
     "metadata": {},
     "output_type": "execute_result"
    }
   ],
   "source": [
    "np.argmax(Y_pred[0])"
   ]
  },
  {
   "cell_type": "code",
   "execution_count": 48,
   "id": "efd413ae-bf3c-4333-b02d-2bd4d473db8f",
   "metadata": {},
   "outputs": [
    {
     "name": "stderr",
     "output_type": "stream",
     "text": [
      "IOPub data rate exceeded.\n",
      "The Jupyter server will temporarily stop sending output\n",
      "to the client in order to avoid crashing it.\n",
      "To change this limit, set the config variable\n",
      "`--ServerApp.iopub_data_rate_limit`.\n",
      "\n",
      "Current values:\n",
      "ServerApp.iopub_data_rate_limit=1000000.0 (bytes/sec)\n",
      "ServerApp.rate_limit_window=3.0 (secs)\n",
      "\n"
     ]
    }
   ],
   "source": [
    "act=[]\n",
    "for i in range(len(Y_test)):\n",
    "    act.append(np.argmax(Y_test[i]))\n",
    "    print(act)\n",
    "    "
   ]
  },
  {
   "cell_type": "code",
   "execution_count": 52,
   "id": "42599043-67fa-4e46-8623-db9693210054",
   "metadata": {},
   "outputs": [
    {
     "name": "stderr",
     "output_type": "stream",
     "text": [
      "IOPub data rate exceeded.\n",
      "The Jupyter server will temporarily stop sending output\n",
      "to the client in order to avoid crashing it.\n",
      "To change this limit, set the config variable\n",
      "`--ServerApp.iopub_data_rate_limit`.\n",
      "\n",
      "Current values:\n",
      "ServerApp.iopub_data_rate_limit=1000000.0 (bytes/sec)\n",
      "ServerApp.rate_limit_window=3.0 (secs)\n",
      "\n"
     ]
    }
   ],
   "source": [
    "pred=[]\n",
    "for i in range(len(Y_pred)):\n",
    "    pred.append(np.argmax(Y_pred[i]))\n",
    "    print(pred)"
   ]
  },
  {
   "cell_type": "code",
   "execution_count": 54,
   "id": "c1435ba3-c8e8-4003-b4ac-953a432269d3",
   "metadata": {},
   "outputs": [
    {
     "data": {
      "text/plain": [
       "0.03825"
      ]
     },
     "execution_count": 54,
     "metadata": {},
     "output_type": "execute_result"
    }
   ],
   "source": [
    "accuracy_score(act,pred)"
   ]
  },
  {
   "cell_type": "code",
   "execution_count": 56,
   "id": "48bcb7d8-1d81-4f35-8e62-a780441cb985",
   "metadata": {},
   "outputs": [
    {
     "name": "stderr",
     "output_type": "stream",
     "text": [
      "C:\\Users\\Integrated\\anaconda3\\Lib\\site-packages\\keras\\src\\layers\\core\\dense.py:87: UserWarning: Do not pass an `input_shape`/`input_dim` argument to a layer. When using Sequential models, prefer using an `Input(shape)` object as the first layer in the model instead.\n",
      "  super().__init__(activity_regularizer=activity_regularizer, **kwargs)\n",
      "C:\\Users\\Integrated\\anaconda3\\Lib\\site-packages\\keras\\src\\layers\\core\\dense.py:87: UserWarning: Do not pass an `input_shape`/`input_dim` argument to a layer. When using Sequential models, prefer using an `Input(shape)` object as the first layer in the model instead.\n",
      "  super().__init__(activity_regularizer=activity_regularizer, **kwargs)\n",
      "C:\\Users\\Integrated\\anaconda3\\Lib\\site-packages\\keras\\src\\layers\\core\\dense.py:87: UserWarning: Do not pass an `input_shape`/`input_dim` argument to a layer. When using Sequential models, prefer using an `Input(shape)` object as the first layer in the model instead.\n",
      "  super().__init__(activity_regularizer=activity_regularizer, **kwargs)\n",
      "C:\\Users\\Integrated\\anaconda3\\Lib\\site-packages\\keras\\src\\layers\\core\\dense.py:87: UserWarning: Do not pass an `input_shape`/`input_dim` argument to a layer. When using Sequential models, prefer using an `Input(shape)` object as the first layer in the model instead.\n",
      "  super().__init__(activity_regularizer=activity_regularizer, **kwargs)\n",
      "C:\\Users\\Integrated\\anaconda3\\Lib\\site-packages\\keras\\src\\layers\\core\\dense.py:87: UserWarning: Do not pass an `input_shape`/`input_dim` argument to a layer. When using Sequential models, prefer using an `Input(shape)` object as the first layer in the model instead.\n",
      "  super().__init__(activity_regularizer=activity_regularizer, **kwargs)\n",
      "C:\\Users\\Integrated\\anaconda3\\Lib\\site-packages\\keras\\src\\layers\\core\\dense.py:87: UserWarning: Do not pass an `input_shape`/`input_dim` argument to a layer. When using Sequential models, prefer using an `Input(shape)` object as the first layer in the model instead.\n",
      "  super().__init__(activity_regularizer=activity_regularizer, **kwargs)\n",
      "C:\\Users\\Integrated\\anaconda3\\Lib\\site-packages\\keras\\src\\layers\\core\\dense.py:87: UserWarning: Do not pass an `input_shape`/`input_dim` argument to a layer. When using Sequential models, prefer using an `Input(shape)` object as the first layer in the model instead.\n",
      "  super().__init__(activity_regularizer=activity_regularizer, **kwargs)\n",
      "C:\\Users\\Integrated\\anaconda3\\Lib\\site-packages\\keras\\src\\layers\\core\\dense.py:87: UserWarning: Do not pass an `input_shape`/`input_dim` argument to a layer. When using Sequential models, prefer using an `Input(shape)` object as the first layer in the model instead.\n",
      "  super().__init__(activity_regularizer=activity_regularizer, **kwargs)\n",
      "C:\\Users\\Integrated\\anaconda3\\Lib\\site-packages\\keras\\src\\layers\\core\\dense.py:87: UserWarning: Do not pass an `input_shape`/`input_dim` argument to a layer. When using Sequential models, prefer using an `Input(shape)` object as the first layer in the model instead.\n",
      "  super().__init__(activity_regularizer=activity_regularizer, **kwargs)\n",
      "C:\\Users\\Integrated\\anaconda3\\Lib\\site-packages\\keras\\src\\layers\\core\\dense.py:87: UserWarning: Do not pass an `input_shape`/`input_dim` argument to a layer. When using Sequential models, prefer using an `Input(shape)` object as the first layer in the model instead.\n",
      "  super().__init__(activity_regularizer=activity_regularizer, **kwargs)\n",
      "C:\\Users\\Integrated\\anaconda3\\Lib\\site-packages\\keras\\src\\layers\\core\\dense.py:87: UserWarning: Do not pass an `input_shape`/`input_dim` argument to a layer. When using Sequential models, prefer using an `Input(shape)` object as the first layer in the model instead.\n",
      "  super().__init__(activity_regularizer=activity_regularizer, **kwargs)\n",
      "C:\\Users\\Integrated\\anaconda3\\Lib\\site-packages\\keras\\src\\layers\\core\\dense.py:87: UserWarning: Do not pass an `input_shape`/`input_dim` argument to a layer. When using Sequential models, prefer using an `Input(shape)` object as the first layer in the model instead.\n",
      "  super().__init__(activity_regularizer=activity_regularizer, **kwargs)\n",
      "C:\\Users\\Integrated\\anaconda3\\Lib\\site-packages\\keras\\src\\layers\\core\\dense.py:87: UserWarning: Do not pass an `input_shape`/`input_dim` argument to a layer. When using Sequential models, prefer using an `Input(shape)` object as the first layer in the model instead.\n",
      "  super().__init__(activity_regularizer=activity_regularizer, **kwargs)\n",
      "C:\\Users\\Integrated\\anaconda3\\Lib\\site-packages\\keras\\src\\layers\\core\\dense.py:87: UserWarning: Do not pass an `input_shape`/`input_dim` argument to a layer. When using Sequential models, prefer using an `Input(shape)` object as the first layer in the model instead.\n",
      "  super().__init__(activity_regularizer=activity_regularizer, **kwargs)\n",
      "C:\\Users\\Integrated\\anaconda3\\Lib\\site-packages\\keras\\src\\layers\\core\\dense.py:87: UserWarning: Do not pass an `input_shape`/`input_dim` argument to a layer. When using Sequential models, prefer using an `Input(shape)` object as the first layer in the model instead.\n",
      "  super().__init__(activity_regularizer=activity_regularizer, **kwargs)\n",
      "C:\\Users\\Integrated\\anaconda3\\Lib\\site-packages\\keras\\src\\layers\\core\\dense.py:87: UserWarning: Do not pass an `input_shape`/`input_dim` argument to a layer. When using Sequential models, prefer using an `Input(shape)` object as the first layer in the model instead.\n",
      "  super().__init__(activity_regularizer=activity_regularizer, **kwargs)\n",
      "C:\\Users\\Integrated\\anaconda3\\Lib\\site-packages\\keras\\src\\layers\\core\\dense.py:87: UserWarning: Do not pass an `input_shape`/`input_dim` argument to a layer. When using Sequential models, prefer using an `Input(shape)` object as the first layer in the model instead.\n",
      "  super().__init__(activity_regularizer=activity_regularizer, **kwargs)\n",
      "C:\\Users\\Integrated\\anaconda3\\Lib\\site-packages\\keras\\src\\layers\\core\\dense.py:87: UserWarning: Do not pass an `input_shape`/`input_dim` argument to a layer. When using Sequential models, prefer using an `Input(shape)` object as the first layer in the model instead.\n",
      "  super().__init__(activity_regularizer=activity_regularizer, **kwargs)\n",
      "C:\\Users\\Integrated\\anaconda3\\Lib\\site-packages\\keras\\src\\layers\\core\\dense.py:87: UserWarning: Do not pass an `input_shape`/`input_dim` argument to a layer. When using Sequential models, prefer using an `Input(shape)` object as the first layer in the model instead.\n",
      "  super().__init__(activity_regularizer=activity_regularizer, **kwargs)\n",
      "C:\\Users\\Integrated\\anaconda3\\Lib\\site-packages\\keras\\src\\layers\\core\\dense.py:87: UserWarning: Do not pass an `input_shape`/`input_dim` argument to a layer. When using Sequential models, prefer using an `Input(shape)` object as the first layer in the model instead.\n",
      "  super().__init__(activity_regularizer=activity_regularizer, **kwargs)\n",
      "C:\\Users\\Integrated\\anaconda3\\Lib\\site-packages\\keras\\src\\layers\\core\\dense.py:87: UserWarning: Do not pass an `input_shape`/`input_dim` argument to a layer. When using Sequential models, prefer using an `Input(shape)` object as the first layer in the model instead.\n",
      "  super().__init__(activity_regularizer=activity_regularizer, **kwargs)\n",
      "C:\\Users\\Integrated\\anaconda3\\Lib\\site-packages\\keras\\src\\layers\\core\\dense.py:87: UserWarning: Do not pass an `input_shape`/`input_dim` argument to a layer. When using Sequential models, prefer using an `Input(shape)` object as the first layer in the model instead.\n",
      "  super().__init__(activity_regularizer=activity_regularizer, **kwargs)\n",
      "C:\\Users\\Integrated\\anaconda3\\Lib\\site-packages\\keras\\src\\layers\\core\\dense.py:87: UserWarning: Do not pass an `input_shape`/`input_dim` argument to a layer. When using Sequential models, prefer using an `Input(shape)` object as the first layer in the model instead.\n",
      "  super().__init__(activity_regularizer=activity_regularizer, **kwargs)\n",
      "C:\\Users\\Integrated\\anaconda3\\Lib\\site-packages\\keras\\src\\layers\\core\\dense.py:87: UserWarning: Do not pass an `input_shape`/`input_dim` argument to a layer. When using Sequential models, prefer using an `Input(shape)` object as the first layer in the model instead.\n",
      "  super().__init__(activity_regularizer=activity_regularizer, **kwargs)\n",
      "C:\\Users\\Integrated\\anaconda3\\Lib\\site-packages\\keras\\src\\layers\\core\\dense.py:87: UserWarning: Do not pass an `input_shape`/`input_dim` argument to a layer. When using Sequential models, prefer using an `Input(shape)` object as the first layer in the model instead.\n",
      "  super().__init__(activity_regularizer=activity_regularizer, **kwargs)\n"
     ]
    },
    {
     "name": "stdout",
     "output_type": "stream",
     "text": [
      "Best: 0.9334374291719066 using {'batch_size': 32, 'epochs': 20, 'optimizer': 'sgd'}\n"
     ]
    }
   ],
   "source": [
    "# tuning the best model\n",
    "import numpy as np\n",
    "from tensorflow.keras.models import Sequential\n",
    "from tensorflow.keras.layers import Dense\n",
    "from scikeras.wrappers import KerasClassifier\n",
    "from sklearn.model_selection import GridSearchCV\n",
    "\n",
    "# Define the model creation function\n",
    "def create_model(optimizer='RMSprop'):\n",
    "    model = Sequential()\n",
    "    model.add(Dense(128, input_dim=X_train.shape[1], activation='relu'))\n",
    "    model.add(Dense(64, activation='relu'))\n",
    "    model.add(Dense(len(encoder.classes_), activation='softmax'))\n",
    "    model.compile(loss='sparse_categorical_crossentropy', optimizer=optimizer, metrics=['accuracy'])\n",
    "    return model\n",
    "\n",
    "# Create the KerasClassifier\n",
    "model = KerasClassifier(model=create_model, verbose=0)\n",
    "\n",
    "# Define the grid of hyperparameters\n",
    "param_grid = {\n",
    "    'batch_size': [32, 64],\n",
    "    'epochs': [10, 20],\n",
    "    'optimizer': ['adam', 'sgd']\n",
    "}\n",
    "\n",
    "# Create GridSearchCV\n",
    "grid = GridSearchCV(estimator=model, param_grid=param_grid, cv=3)\n",
    "grid_result = grid.fit(X_train, Y_train)\n",
    "\n",
    "# Print the best result\n",
    "print(f\"Best: {grid_result.best_score_} using {grid_result.best_params_}\")\n"
   ]
  },
  {
   "cell_type": "code",
   "execution_count": 57,
   "id": "7ff8d472-daf7-4971-b2a0-ca028877886e",
   "metadata": {},
   "outputs": [
    {
     "name": "stdout",
     "output_type": "stream",
     "text": [
      "2.18.0\n"
     ]
    }
   ],
   "source": [
    "import tensorflow as tf\n",
    "print(tf.__version__)\n",
    "\n"
   ]
  },
  {
   "cell_type": "code",
   "execution_count": 58,
   "id": "2314e94a-e43a-4ad8-83bc-31fc211ee5fd",
   "metadata": {},
   "outputs": [
    {
     "name": "stdout",
     "output_type": "stream",
     "text": [
      "Requirement already satisfied: tensorflow in c:\\users\\integrated\\anaconda3\\lib\\site-packages (2.18.0)\n",
      "Collecting tensorflow\n",
      "  Downloading tensorflow-2.19.0-cp312-cp312-win_amd64.whl.metadata (4.1 kB)\n",
      "Requirement already satisfied: absl-py>=1.0.0 in c:\\users\\integrated\\anaconda3\\lib\\site-packages (from tensorflow) (2.1.0)\n",
      "Requirement already satisfied: astunparse>=1.6.0 in c:\\users\\integrated\\anaconda3\\lib\\site-packages (from tensorflow) (1.6.3)\n",
      "Requirement already satisfied: flatbuffers>=24.3.25 in c:\\users\\integrated\\anaconda3\\lib\\site-packages (from tensorflow) (25.2.10)\n",
      "Requirement already satisfied: gast!=0.5.0,!=0.5.1,!=0.5.2,>=0.2.1 in c:\\users\\integrated\\anaconda3\\lib\\site-packages (from tensorflow) (0.6.0)\n",
      "Requirement already satisfied: google-pasta>=0.1.1 in c:\\users\\integrated\\anaconda3\\lib\\site-packages (from tensorflow) (0.2.0)\n",
      "Requirement already satisfied: libclang>=13.0.0 in c:\\users\\integrated\\anaconda3\\lib\\site-packages (from tensorflow) (18.1.1)\n",
      "Requirement already satisfied: opt-einsum>=2.3.2 in c:\\users\\integrated\\anaconda3\\lib\\site-packages (from tensorflow) (3.4.0)\n",
      "Requirement already satisfied: packaging in c:\\users\\integrated\\anaconda3\\lib\\site-packages (from tensorflow) (24.1)\n",
      "Requirement already satisfied: protobuf!=4.21.0,!=4.21.1,!=4.21.2,!=4.21.3,!=4.21.4,!=4.21.5,<6.0.0dev,>=3.20.3 in c:\\users\\integrated\\anaconda3\\lib\\site-packages (from tensorflow) (4.25.3)\n",
      "Requirement already satisfied: requests<3,>=2.21.0 in c:\\users\\integrated\\anaconda3\\lib\\site-packages (from tensorflow) (2.32.3)\n",
      "Requirement already satisfied: setuptools in c:\\users\\integrated\\anaconda3\\lib\\site-packages (from tensorflow) (75.1.0)\n",
      "Requirement already satisfied: six>=1.12.0 in c:\\users\\integrated\\anaconda3\\lib\\site-packages (from tensorflow) (1.16.0)\n",
      "Requirement already satisfied: termcolor>=1.1.0 in c:\\users\\integrated\\anaconda3\\lib\\site-packages (from tensorflow) (2.5.0)\n",
      "Requirement already satisfied: typing-extensions>=3.6.6 in c:\\users\\integrated\\anaconda3\\lib\\site-packages (from tensorflow) (4.11.0)\n",
      "Requirement already satisfied: wrapt>=1.11.0 in c:\\users\\integrated\\anaconda3\\lib\\site-packages (from tensorflow) (1.14.1)\n",
      "Requirement already satisfied: grpcio<2.0,>=1.24.3 in c:\\users\\integrated\\anaconda3\\lib\\site-packages (from tensorflow) (1.71.0)\n",
      "Collecting tensorboard~=2.19.0 (from tensorflow)\n",
      "  Downloading tensorboard-2.19.0-py3-none-any.whl.metadata (1.8 kB)\n",
      "Requirement already satisfied: keras>=3.5.0 in c:\\users\\integrated\\anaconda3\\lib\\site-packages (from tensorflow) (3.9.0)\n",
      "Requirement already satisfied: numpy<2.2.0,>=1.26.0 in c:\\users\\integrated\\anaconda3\\lib\\site-packages (from tensorflow) (1.26.4)\n",
      "Requirement already satisfied: h5py>=3.11.0 in c:\\users\\integrated\\anaconda3\\lib\\site-packages (from tensorflow) (3.11.0)\n",
      "Collecting ml-dtypes<1.0.0,>=0.5.1 (from tensorflow)\n",
      "  Downloading ml_dtypes-0.5.1-cp312-cp312-win_amd64.whl.metadata (22 kB)\n",
      "Requirement already satisfied: wheel<1.0,>=0.23.0 in c:\\users\\integrated\\anaconda3\\lib\\site-packages (from astunparse>=1.6.0->tensorflow) (0.44.0)\n",
      "Requirement already satisfied: rich in c:\\users\\integrated\\anaconda3\\lib\\site-packages (from keras>=3.5.0->tensorflow) (13.7.1)\n",
      "Requirement already satisfied: namex in c:\\users\\integrated\\anaconda3\\lib\\site-packages (from keras>=3.5.0->tensorflow) (0.0.8)\n",
      "Requirement already satisfied: optree in c:\\users\\integrated\\anaconda3\\lib\\site-packages (from keras>=3.5.0->tensorflow) (0.14.1)\n",
      "Requirement already satisfied: charset-normalizer<4,>=2 in c:\\users\\integrated\\anaconda3\\lib\\site-packages (from requests<3,>=2.21.0->tensorflow) (3.3.2)\n",
      "Requirement already satisfied: idna<4,>=2.5 in c:\\users\\integrated\\anaconda3\\lib\\site-packages (from requests<3,>=2.21.0->tensorflow) (3.7)\n",
      "Requirement already satisfied: urllib3<3,>=1.21.1 in c:\\users\\integrated\\anaconda3\\lib\\site-packages (from requests<3,>=2.21.0->tensorflow) (2.2.3)\n",
      "Requirement already satisfied: certifi>=2017.4.17 in c:\\users\\integrated\\anaconda3\\lib\\site-packages (from requests<3,>=2.21.0->tensorflow) (2025.1.31)\n",
      "Requirement already satisfied: markdown>=2.6.8 in c:\\users\\integrated\\anaconda3\\lib\\site-packages (from tensorboard~=2.19.0->tensorflow) (3.4.1)\n",
      "Requirement already satisfied: tensorboard-data-server<0.8.0,>=0.7.0 in c:\\users\\integrated\\anaconda3\\lib\\site-packages (from tensorboard~=2.19.0->tensorflow) (0.7.2)\n",
      "Requirement already satisfied: werkzeug>=1.0.1 in c:\\users\\integrated\\anaconda3\\lib\\site-packages (from tensorboard~=2.19.0->tensorflow) (3.0.3)\n",
      "Requirement already satisfied: MarkupSafe>=2.1.1 in c:\\users\\integrated\\anaconda3\\lib\\site-packages (from werkzeug>=1.0.1->tensorboard~=2.19.0->tensorflow) (2.1.3)\n",
      "Requirement already satisfied: markdown-it-py>=2.2.0 in c:\\users\\integrated\\anaconda3\\lib\\site-packages (from rich->keras>=3.5.0->tensorflow) (2.2.0)\n",
      "Requirement already satisfied: pygments<3.0.0,>=2.13.0 in c:\\users\\integrated\\anaconda3\\lib\\site-packages (from rich->keras>=3.5.0->tensorflow) (2.15.1)\n",
      "Requirement already satisfied: mdurl~=0.1 in c:\\users\\integrated\\anaconda3\\lib\\site-packages (from markdown-it-py>=2.2.0->rich->keras>=3.5.0->tensorflow) (0.1.0)\n",
      "Downloading tensorflow-2.19.0-cp312-cp312-win_amd64.whl (376.0 MB)\n",
      "   ---------------------------------------- 0.0/376.0 MB ? eta -:--:--\n",
      "   ---------------------------------------- 0.3/376.0 MB ? eta -:--:--\n",
      "   ---------------------------------------- 1.0/376.0 MB 3.4 MB/s eta 0:01:52\n",
      "   ---------------------------------------- 1.8/376.0 MB 3.4 MB/s eta 0:01:52\n",
      "   ---------------------------------------- 2.4/376.0 MB 3.4 MB/s eta 0:01:52\n",
      "   ---------------------------------------- 3.4/376.0 MB 3.6 MB/s eta 0:01:44\n",
      "    --------------------------------------- 4.7/376.0 MB 4.0 MB/s eta 0:01:33\n",
      "    --------------------------------------- 5.8/376.0 MB 4.1 MB/s eta 0:01:30\n",
      "    --------------------------------------- 6.8/376.0 MB 4.3 MB/s eta 0:01:26\n",
      "    --------------------------------------- 7.9/376.0 MB 4.4 MB/s eta 0:01:24\n",
      "    --------------------------------------- 8.7/376.0 MB 4.4 MB/s eta 0:01:24\n",
      "   - -------------------------------------- 9.7/376.0 MB 4.4 MB/s eta 0:01:23\n",
      "   - -------------------------------------- 10.7/376.0 MB 4.5 MB/s eta 0:01:21\n",
      "   - -------------------------------------- 12.1/376.0 MB 4.6 MB/s eta 0:01:20\n",
      "   - -------------------------------------- 13.1/376.0 MB 4.6 MB/s eta 0:01:19\n",
      "   - -------------------------------------- 13.9/376.0 MB 4.5 MB/s eta 0:01:20\n",
      "   - -------------------------------------- 14.7/376.0 MB 4.6 MB/s eta 0:01:19\n",
      "   - -------------------------------------- 16.0/376.0 MB 4.6 MB/s eta 0:01:18\n",
      "   - -------------------------------------- 17.0/376.0 MB 4.6 MB/s eta 0:01:18\n",
      "   - -------------------------------------- 18.4/376.0 MB 4.7 MB/s eta 0:01:16\n",
      "   -- ------------------------------------- 19.4/376.0 MB 4.7 MB/s eta 0:01:16\n",
      "   -- ------------------------------------- 20.4/376.0 MB 4.8 MB/s eta 0:01:15\n",
      "   -- ------------------------------------- 21.5/376.0 MB 4.8 MB/s eta 0:01:14\n",
      "   -- ------------------------------------- 22.5/376.0 MB 4.8 MB/s eta 0:01:14\n",
      "   -- ------------------------------------- 23.6/376.0 MB 4.8 MB/s eta 0:01:14\n",
      "   -- ------------------------------------- 24.6/376.0 MB 4.8 MB/s eta 0:01:14\n",
      "   -- ------------------------------------- 25.7/376.0 MB 4.8 MB/s eta 0:01:14\n",
      "   -- ------------------------------------- 26.7/376.0 MB 4.8 MB/s eta 0:01:13\n",
      "   -- ------------------------------------- 27.8/376.0 MB 4.8 MB/s eta 0:01:13\n",
      "   --- ------------------------------------ 28.6/376.0 MB 4.8 MB/s eta 0:01:13\n",
      "   --- ------------------------------------ 29.6/376.0 MB 4.8 MB/s eta 0:01:13\n",
      "   --- ------------------------------------ 30.7/376.0 MB 4.8 MB/s eta 0:01:13\n",
      "   --- ------------------------------------ 31.7/376.0 MB 4.8 MB/s eta 0:01:12\n",
      "   --- ------------------------------------ 32.2/376.0 MB 4.7 MB/s eta 0:01:13\n",
      "   --- ------------------------------------ 33.6/376.0 MB 4.8 MB/s eta 0:01:12\n",
      "   --- ------------------------------------ 34.6/376.0 MB 4.8 MB/s eta 0:01:12\n",
      "   --- ------------------------------------ 35.7/376.0 MB 4.8 MB/s eta 0:01:12\n",
      "   --- ------------------------------------ 36.7/376.0 MB 4.8 MB/s eta 0:01:11\n",
      "   --- ------------------------------------ 37.5/376.0 MB 4.8 MB/s eta 0:01:11\n",
      "   ---- ----------------------------------- 38.5/376.0 MB 4.8 MB/s eta 0:01:11\n",
      "   ---- ----------------------------------- 39.3/376.0 MB 4.8 MB/s eta 0:01:11\n",
      "   ---- ----------------------------------- 40.4/376.0 MB 4.8 MB/s eta 0:01:11\n",
      "   ---- ----------------------------------- 41.4/376.0 MB 4.7 MB/s eta 0:01:11\n",
      "   ---- ----------------------------------- 42.2/376.0 MB 4.7 MB/s eta 0:01:11\n",
      "   ---- ----------------------------------- 43.0/376.0 MB 4.7 MB/s eta 0:01:11\n",
      "   ---- ----------------------------------- 43.8/376.0 MB 4.7 MB/s eta 0:01:11\n",
      "   ---- ----------------------------------- 44.8/376.0 MB 4.7 MB/s eta 0:01:11\n",
      "   ---- ----------------------------------- 45.6/376.0 MB 4.7 MB/s eta 0:01:11\n",
      "   ---- ----------------------------------- 46.7/376.0 MB 4.7 MB/s eta 0:01:11\n",
      "   ----- ---------------------------------- 47.7/376.0 MB 4.7 MB/s eta 0:01:11\n",
      "   ----- ---------------------------------- 48.5/376.0 MB 4.7 MB/s eta 0:01:11\n",
      "   ----- ---------------------------------- 49.5/376.0 MB 4.7 MB/s eta 0:01:11\n",
      "   ----- ---------------------------------- 50.3/376.0 MB 4.7 MB/s eta 0:01:10\n",
      "   ----- ---------------------------------- 51.1/376.0 MB 4.6 MB/s eta 0:01:10\n",
      "   ----- ---------------------------------- 52.2/376.0 MB 4.6 MB/s eta 0:01:10\n",
      "   ----- ---------------------------------- 53.2/376.0 MB 4.7 MB/s eta 0:01:10\n",
      "   ----- ---------------------------------- 54.0/376.0 MB 4.6 MB/s eta 0:01:10\n",
      "   ----- ---------------------------------- 54.8/376.0 MB 4.6 MB/s eta 0:01:10\n",
      "   ----- ---------------------------------- 55.6/376.0 MB 4.6 MB/s eta 0:01:10\n",
      "   ----- ---------------------------------- 56.1/376.0 MB 4.6 MB/s eta 0:01:10\n",
      "   ------ --------------------------------- 57.1/376.0 MB 4.6 MB/s eta 0:01:10\n",
      "   ------ --------------------------------- 57.9/376.0 MB 4.6 MB/s eta 0:01:10\n",
      "   ------ --------------------------------- 58.7/376.0 MB 4.6 MB/s eta 0:01:10\n",
      "   ------ --------------------------------- 59.8/376.0 MB 4.6 MB/s eta 0:01:10\n",
      "   ------ --------------------------------- 60.8/376.0 MB 4.6 MB/s eta 0:01:10\n",
      "   ------ --------------------------------- 61.3/376.0 MB 4.5 MB/s eta 0:01:10\n",
      "   ------ --------------------------------- 62.4/376.0 MB 4.5 MB/s eta 0:01:10\n",
      "   ------ --------------------------------- 63.4/376.0 MB 4.5 MB/s eta 0:01:09\n",
      "   ------ --------------------------------- 64.5/376.0 MB 4.5 MB/s eta 0:01:09\n",
      "   ------ --------------------------------- 65.5/376.0 MB 4.6 MB/s eta 0:01:09\n",
      "   ------- -------------------------------- 66.8/376.0 MB 4.6 MB/s eta 0:01:08\n",
      "   ------- -------------------------------- 67.9/376.0 MB 4.6 MB/s eta 0:01:08\n",
      "   ------- -------------------------------- 68.9/376.0 MB 4.6 MB/s eta 0:01:07\n",
      "   ------- -------------------------------- 70.0/376.0 MB 4.6 MB/s eta 0:01:07\n",
      "   ------- -------------------------------- 70.8/376.0 MB 4.6 MB/s eta 0:01:07\n",
      "   ------- -------------------------------- 71.8/376.0 MB 4.6 MB/s eta 0:01:07\n",
      "   ------- -------------------------------- 72.9/376.0 MB 4.6 MB/s eta 0:01:06\n",
      "   ------- -------------------------------- 73.9/376.0 MB 4.6 MB/s eta 0:01:06\n",
      "   ------- -------------------------------- 74.7/376.0 MB 4.6 MB/s eta 0:01:06\n",
      "   -------- ------------------------------- 75.8/376.0 MB 4.6 MB/s eta 0:01:06\n",
      "   -------- ------------------------------- 77.1/376.0 MB 4.6 MB/s eta 0:01:05\n",
      "   -------- ------------------------------- 78.1/376.0 MB 4.6 MB/s eta 0:01:05\n",
      "   -------- ------------------------------- 79.2/376.0 MB 4.6 MB/s eta 0:01:05\n",
      "   -------- ------------------------------- 80.2/376.0 MB 4.6 MB/s eta 0:01:04\n",
      "   -------- ------------------------------- 81.5/376.0 MB 4.7 MB/s eta 0:01:04\n",
      "   -------- ------------------------------- 82.6/376.0 MB 4.7 MB/s eta 0:01:03\n",
      "   -------- ------------------------------- 83.6/376.0 MB 4.7 MB/s eta 0:01:03\n",
      "   --------- ------------------------------ 84.9/376.0 MB 4.7 MB/s eta 0:01:03\n",
      "   --------- ------------------------------ 86.0/376.0 MB 4.7 MB/s eta 0:01:02\n",
      "   --------- ------------------------------ 86.8/376.0 MB 4.7 MB/s eta 0:01:02\n",
      "   --------- ------------------------------ 87.8/376.0 MB 4.7 MB/s eta 0:01:02\n",
      "   --------- ------------------------------ 89.1/376.0 MB 4.7 MB/s eta 0:01:02\n",
      "   --------- ------------------------------ 90.2/376.0 MB 4.7 MB/s eta 0:01:01\n",
      "   --------- ------------------------------ 91.2/376.0 MB 4.7 MB/s eta 0:01:01\n",
      "   --------- ------------------------------ 92.3/376.0 MB 4.7 MB/s eta 0:01:01\n",
      "   --------- ------------------------------ 93.6/376.0 MB 4.7 MB/s eta 0:01:00\n",
      "   ---------- ----------------------------- 94.6/376.0 MB 4.7 MB/s eta 0:01:00\n",
      "   ---------- ----------------------------- 95.7/376.0 MB 4.7 MB/s eta 0:01:00\n",
      "   ---------- ----------------------------- 96.7/376.0 MB 4.7 MB/s eta 0:01:00\n",
      "   ---------- ----------------------------- 98.0/376.0 MB 4.7 MB/s eta 0:00:59\n",
      "   ---------- ----------------------------- 99.1/376.0 MB 4.8 MB/s eta 0:00:59\n",
      "   ---------- ----------------------------- 100.4/376.0 MB 4.8 MB/s eta 0:00:58\n",
      "   ---------- ----------------------------- 101.2/376.0 MB 4.8 MB/s eta 0:00:58\n",
      "   ---------- ----------------------------- 102.5/376.0 MB 4.8 MB/s eta 0:00:58\n",
      "   ---------- ----------------------------- 103.3/376.0 MB 4.8 MB/s eta 0:00:58\n",
      "   ----------- ---------------------------- 104.3/376.0 MB 4.8 MB/s eta 0:00:58\n",
      "   ----------- ---------------------------- 105.6/376.0 MB 4.8 MB/s eta 0:00:57\n",
      "   ----------- ---------------------------- 106.7/376.0 MB 4.8 MB/s eta 0:00:57\n",
      "   ----------- ---------------------------- 107.7/376.0 MB 4.8 MB/s eta 0:00:57\n",
      "   ----------- ---------------------------- 108.8/376.0 MB 4.8 MB/s eta 0:00:56\n",
      "   ----------- ---------------------------- 109.8/376.0 MB 4.8 MB/s eta 0:00:56\n",
      "   ----------- ---------------------------- 111.1/376.0 MB 4.8 MB/s eta 0:00:56\n",
      "   ----------- ---------------------------- 112.2/376.0 MB 4.8 MB/s eta 0:00:55\n",
      "   ------------ --------------------------- 113.2/376.0 MB 4.8 MB/s eta 0:00:55\n",
      "   ------------ --------------------------- 114.3/376.0 MB 4.8 MB/s eta 0:00:55\n",
      "   ------------ --------------------------- 115.3/376.0 MB 4.8 MB/s eta 0:00:55\n",
      "   ------------ --------------------------- 116.4/376.0 MB 4.8 MB/s eta 0:00:55\n",
      "   ------------ --------------------------- 117.4/376.0 MB 4.8 MB/s eta 0:00:54\n",
      "   ------------ --------------------------- 118.8/376.0 MB 4.8 MB/s eta 0:00:54\n",
      "   ------------ --------------------------- 119.3/376.0 MB 4.8 MB/s eta 0:00:54\n",
      "   ------------ --------------------------- 120.3/376.0 MB 4.8 MB/s eta 0:00:54\n",
      "   ------------ --------------------------- 121.4/376.0 MB 4.8 MB/s eta 0:00:54\n",
      "   ------------- -------------------------- 122.7/376.0 MB 4.8 MB/s eta 0:00:53\n",
      "   ------------- -------------------------- 123.7/376.0 MB 4.8 MB/s eta 0:00:53\n",
      "   ------------- -------------------------- 125.0/376.0 MB 4.8 MB/s eta 0:00:53\n",
      "   ------------- -------------------------- 125.8/376.0 MB 4.8 MB/s eta 0:00:52\n",
      "   ------------- -------------------------- 127.1/376.0 MB 4.8 MB/s eta 0:00:52\n",
      "   ------------- -------------------------- 128.2/376.0 MB 4.8 MB/s eta 0:00:52\n",
      "   ------------- -------------------------- 129.2/376.0 MB 4.8 MB/s eta 0:00:52\n",
      "   ------------- -------------------------- 130.3/376.0 MB 4.8 MB/s eta 0:00:51\n",
      "   ------------- -------------------------- 131.3/376.0 MB 4.8 MB/s eta 0:00:51\n",
      "   -------------- ------------------------- 132.4/376.0 MB 4.8 MB/s eta 0:00:51\n",
      "   -------------- ------------------------- 133.4/376.0 MB 4.8 MB/s eta 0:00:51\n",
      "   -------------- ------------------------- 134.2/376.0 MB 4.8 MB/s eta 0:00:51\n",
      "   -------------- ------------------------- 135.3/376.0 MB 4.8 MB/s eta 0:00:50\n",
      "   -------------- ------------------------- 136.3/376.0 MB 4.8 MB/s eta 0:00:50\n",
      "   -------------- ------------------------- 137.4/376.0 MB 4.8 MB/s eta 0:00:50\n",
      "   -------------- ------------------------- 138.1/376.0 MB 4.8 MB/s eta 0:00:50\n",
      "   -------------- ------------------------- 139.2/376.0 MB 4.8 MB/s eta 0:00:50\n",
      "   -------------- ------------------------- 140.2/376.0 MB 4.8 MB/s eta 0:00:49\n",
      "   --------------- ------------------------ 141.6/376.0 MB 4.8 MB/s eta 0:00:49\n",
      "   --------------- ------------------------ 142.6/376.0 MB 4.8 MB/s eta 0:00:49\n",
      "   --------------- ------------------------ 143.7/376.0 MB 4.8 MB/s eta 0:00:49\n",
      "   --------------- ------------------------ 144.4/376.0 MB 4.8 MB/s eta 0:00:48\n",
      "   --------------- ------------------------ 145.5/376.0 MB 4.8 MB/s eta 0:00:48\n",
      "   --------------- ------------------------ 146.5/376.0 MB 4.8 MB/s eta 0:00:48\n",
      "   --------------- ------------------------ 147.6/376.0 MB 4.9 MB/s eta 0:00:48\n",
      "   --------------- ------------------------ 148.6/376.0 MB 4.9 MB/s eta 0:00:47\n",
      "   --------------- ------------------------ 149.4/376.0 MB 4.9 MB/s eta 0:00:47\n",
      "   ---------------- ----------------------- 150.5/376.0 MB 4.9 MB/s eta 0:00:47\n",
      "   ---------------- ----------------------- 151.5/376.0 MB 4.9 MB/s eta 0:00:47\n",
      "   ---------------- ----------------------- 152.6/376.0 MB 4.8 MB/s eta 0:00:47\n",
      "   ---------------- ----------------------- 153.6/376.0 MB 4.8 MB/s eta 0:00:46\n",
      "   ---------------- ----------------------- 154.7/376.0 MB 4.9 MB/s eta 0:00:46\n",
      "   ---------------- ----------------------- 155.7/376.0 MB 4.8 MB/s eta 0:00:46\n",
      "   ---------------- ----------------------- 156.5/376.0 MB 4.8 MB/s eta 0:00:46\n",
      "   ---------------- ----------------------- 157.3/376.0 MB 4.8 MB/s eta 0:00:46\n",
      "   ---------------- ----------------------- 158.3/376.0 MB 4.8 MB/s eta 0:00:45\n",
      "   ---------------- ----------------------- 159.4/376.0 MB 4.8 MB/s eta 0:00:45\n",
      "   ----------------- ---------------------- 160.4/376.0 MB 4.8 MB/s eta 0:00:45\n",
      "   ----------------- ---------------------- 161.5/376.0 MB 4.8 MB/s eta 0:00:45\n",
      "   ----------------- ---------------------- 162.3/376.0 MB 4.8 MB/s eta 0:00:45\n",
      "   ----------------- ---------------------- 163.3/376.0 MB 4.8 MB/s eta 0:00:45\n",
      "   ----------------- ---------------------- 164.1/376.0 MB 4.8 MB/s eta 0:00:44\n",
      "   ----------------- ---------------------- 165.2/376.0 MB 4.8 MB/s eta 0:00:44\n",
      "   ----------------- ---------------------- 166.2/376.0 MB 4.8 MB/s eta 0:00:44\n",
      "   ----------------- ---------------------- 167.2/376.0 MB 4.8 MB/s eta 0:00:44\n",
      "   ----------------- ---------------------- 168.3/376.0 MB 4.8 MB/s eta 0:00:44\n",
      "   ------------------ --------------------- 169.3/376.0 MB 4.8 MB/s eta 0:00:43\n",
      "   ------------------ --------------------- 170.4/376.0 MB 4.8 MB/s eta 0:00:43\n",
      "   ------------------ --------------------- 171.4/376.0 MB 4.8 MB/s eta 0:00:43\n",
      "   ------------------ --------------------- 172.5/376.0 MB 4.8 MB/s eta 0:00:43\n",
      "   ------------------ --------------------- 173.5/376.0 MB 4.8 MB/s eta 0:00:42\n",
      "   ------------------ --------------------- 174.6/376.0 MB 4.8 MB/s eta 0:00:42\n",
      "   ------------------ --------------------- 175.6/376.0 MB 4.8 MB/s eta 0:00:42\n",
      "   ------------------ --------------------- 176.7/376.0 MB 4.8 MB/s eta 0:00:42\n",
      "   ------------------ --------------------- 177.7/376.0 MB 4.8 MB/s eta 0:00:42\n",
      "   ------------------- -------------------- 178.8/376.0 MB 4.8 MB/s eta 0:00:41\n",
      "   ------------------- -------------------- 179.6/376.0 MB 4.8 MB/s eta 0:00:41\n",
      "   ------------------- -------------------- 180.9/376.0 MB 4.8 MB/s eta 0:00:41\n",
      "   ------------------- -------------------- 181.7/376.0 MB 4.8 MB/s eta 0:00:41\n",
      "   ------------------- -------------------- 182.7/376.0 MB 4.8 MB/s eta 0:00:41\n",
      "   ------------------- -------------------- 183.8/376.0 MB 4.8 MB/s eta 0:00:40\n",
      "   ------------------- -------------------- 185.1/376.0 MB 4.8 MB/s eta 0:00:40\n",
      "   ------------------- -------------------- 186.4/376.0 MB 4.9 MB/s eta 0:00:40\n",
      "   ------------------- -------------------- 187.4/376.0 MB 4.9 MB/s eta 0:00:39\n",
      "   -------------------- ------------------- 188.5/376.0 MB 4.9 MB/s eta 0:00:39\n",
      "   -------------------- ------------------- 189.8/376.0 MB 4.9 MB/s eta 0:00:39\n",
      "   -------------------- ------------------- 190.6/376.0 MB 4.9 MB/s eta 0:00:38\n",
      "   -------------------- ------------------- 191.9/376.0 MB 4.9 MB/s eta 0:00:38\n",
      "   -------------------- ------------------- 192.9/376.0 MB 4.9 MB/s eta 0:00:38\n",
      "   -------------------- ------------------- 194.0/376.0 MB 4.9 MB/s eta 0:00:38\n",
      "   -------------------- ------------------- 195.0/376.0 MB 4.9 MB/s eta 0:00:37\n",
      "   -------------------- ------------------- 195.8/376.0 MB 4.9 MB/s eta 0:00:37\n",
      "   -------------------- ------------------- 196.6/376.0 MB 4.9 MB/s eta 0:00:37\n",
      "   --------------------- ------------------ 197.9/376.0 MB 4.9 MB/s eta 0:00:37\n",
      "   --------------------- ------------------ 199.0/376.0 MB 4.9 MB/s eta 0:00:36\n",
      "   --------------------- ------------------ 200.3/376.0 MB 4.9 MB/s eta 0:00:36\n",
      "   --------------------- ------------------ 201.3/376.0 MB 4.9 MB/s eta 0:00:36\n",
      "   --------------------- ------------------ 202.4/376.0 MB 4.9 MB/s eta 0:00:36\n",
      "   --------------------- ------------------ 203.7/376.0 MB 5.0 MB/s eta 0:00:35\n",
      "   --------------------- ------------------ 204.7/376.0 MB 5.0 MB/s eta 0:00:35\n",
      "   --------------------- ------------------ 206.0/376.0 MB 5.0 MB/s eta 0:00:35\n",
      "   ---------------------- ----------------- 207.1/376.0 MB 5.0 MB/s eta 0:00:34\n",
      "   ---------------------- ----------------- 207.9/376.0 MB 5.0 MB/s eta 0:00:34\n",
      "   ---------------------- ----------------- 208.9/376.0 MB 5.0 MB/s eta 0:00:34\n",
      "   ---------------------- ----------------- 210.0/376.0 MB 5.0 MB/s eta 0:00:34\n",
      "   ---------------------- ----------------- 211.0/376.0 MB 5.0 MB/s eta 0:00:33\n",
      "   ---------------------- ----------------- 211.6/376.0 MB 5.0 MB/s eta 0:00:33\n",
      "   ---------------------- ----------------- 212.9/376.0 MB 5.0 MB/s eta 0:00:33\n",
      "   ---------------------- ----------------- 213.9/376.0 MB 5.0 MB/s eta 0:00:33\n",
      "   ---------------------- ----------------- 215.0/376.0 MB 5.0 MB/s eta 0:00:33\n",
      "   ---------------------- ----------------- 216.0/376.0 MB 5.0 MB/s eta 0:00:32\n",
      "   ----------------------- ---------------- 217.1/376.0 MB 5.0 MB/s eta 0:00:32\n",
      "   ----------------------- ---------------- 218.1/376.0 MB 5.0 MB/s eta 0:00:32\n",
      "   ----------------------- ---------------- 219.2/376.0 MB 5.0 MB/s eta 0:00:32\n",
      "   ----------------------- ---------------- 220.2/376.0 MB 5.0 MB/s eta 0:00:32\n",
      "   ----------------------- ---------------- 221.2/376.0 MB 5.0 MB/s eta 0:00:31\n",
      "   ----------------------- ---------------- 222.3/376.0 MB 5.0 MB/s eta 0:00:31\n",
      "   ----------------------- ---------------- 223.3/376.0 MB 5.0 MB/s eta 0:00:31\n",
      "   ----------------------- ---------------- 224.4/376.0 MB 5.0 MB/s eta 0:00:31\n",
      "   ----------------------- ---------------- 225.4/376.0 MB 5.0 MB/s eta 0:00:30\n",
      "   ------------------------ --------------- 226.5/376.0 MB 5.0 MB/s eta 0:00:30\n",
      "   ------------------------ --------------- 227.3/376.0 MB 5.0 MB/s eta 0:00:30\n",
      "   ------------------------ --------------- 228.1/376.0 MB 5.0 MB/s eta 0:00:30\n",
      "   ------------------------ --------------- 229.1/376.0 MB 5.0 MB/s eta 0:00:30\n",
      "   ------------------------ --------------- 230.4/376.0 MB 5.0 MB/s eta 0:00:30\n",
      "   ------------------------ --------------- 231.5/376.0 MB 5.0 MB/s eta 0:00:29\n",
      "   ------------------------ --------------- 232.3/376.0 MB 5.0 MB/s eta 0:00:29\n",
      "   ------------------------ --------------- 233.0/376.0 MB 5.0 MB/s eta 0:00:29\n",
      "   ------------------------ --------------- 234.1/376.0 MB 5.0 MB/s eta 0:00:29\n",
      "   ------------------------ --------------- 234.9/376.0 MB 5.0 MB/s eta 0:00:29\n",
      "   ------------------------- -------------- 235.9/376.0 MB 5.0 MB/s eta 0:00:29\n",
      "   ------------------------- -------------- 237.0/376.0 MB 5.0 MB/s eta 0:00:29\n",
      "   ------------------------- -------------- 238.0/376.0 MB 5.0 MB/s eta 0:00:28\n",
      "   ------------------------- -------------- 238.8/376.0 MB 4.9 MB/s eta 0:00:28\n",
      "   ------------------------- -------------- 239.9/376.0 MB 5.0 MB/s eta 0:00:28\n",
      "   ------------------------- -------------- 240.9/376.0 MB 4.9 MB/s eta 0:00:28\n",
      "   ------------------------- -------------- 241.4/376.0 MB 4.9 MB/s eta 0:00:28\n",
      "   ------------------------- -------------- 242.5/376.0 MB 4.9 MB/s eta 0:00:28\n",
      "   ------------------------- -------------- 243.5/376.0 MB 4.9 MB/s eta 0:00:27\n",
      "   -------------------------- ------------- 244.8/376.0 MB 4.9 MB/s eta 0:00:27\n",
      "   -------------------------- ------------- 245.6/376.0 MB 4.9 MB/s eta 0:00:27\n",
      "   -------------------------- ------------- 246.7/376.0 MB 4.9 MB/s eta 0:00:27\n",
      "   -------------------------- ------------- 247.7/376.0 MB 4.9 MB/s eta 0:00:27\n",
      "   -------------------------- ------------- 248.5/376.0 MB 4.9 MB/s eta 0:00:26\n",
      "   -------------------------- ------------- 248.5/376.0 MB 4.9 MB/s eta 0:00:26\n",
      "   -------------------------- ------------- 248.5/376.0 MB 4.9 MB/s eta 0:00:26\n",
      "   -------------------------- ------------- 248.8/376.0 MB 4.8 MB/s eta 0:00:27\n",
      "   -------------------------- ------------- 249.3/376.0 MB 4.8 MB/s eta 0:00:27\n",
      "   -------------------------- ------------- 249.8/376.0 MB 4.8 MB/s eta 0:00:27\n",
      "   -------------------------- ------------- 250.3/376.0 MB 4.7 MB/s eta 0:00:27\n",
      "   -------------------------- ------------- 251.1/376.0 MB 4.7 MB/s eta 0:00:27\n",
      "   -------------------------- ------------- 252.2/376.0 MB 4.7 MB/s eta 0:00:27\n",
      "   -------------------------- ------------- 252.2/376.0 MB 4.7 MB/s eta 0:00:27\n",
      "   -------------------------- ------------- 253.2/376.0 MB 4.7 MB/s eta 0:00:27\n",
      "   --------------------------- ------------ 254.8/376.0 MB 4.7 MB/s eta 0:00:26\n",
      "   --------------------------- ------------ 256.1/376.0 MB 4.7 MB/s eta 0:00:26\n",
      "   --------------------------- ------------ 257.2/376.0 MB 4.7 MB/s eta 0:00:26\n",
      "   --------------------------- ------------ 258.2/376.0 MB 4.7 MB/s eta 0:00:25\n",
      "   --------------------------- ------------ 259.3/376.0 MB 4.7 MB/s eta 0:00:25\n",
      "   --------------------------- ------------ 260.3/376.0 MB 4.7 MB/s eta 0:00:25\n",
      "   --------------------------- ------------ 261.4/376.0 MB 4.7 MB/s eta 0:00:25\n",
      "   --------------------------- ------------ 262.4/376.0 MB 4.7 MB/s eta 0:00:25\n",
      "   ---------------------------- ----------- 263.2/376.0 MB 4.7 MB/s eta 0:00:24\n",
      "   ---------------------------- ----------- 264.5/376.0 MB 4.7 MB/s eta 0:00:24\n",
      "   ---------------------------- ----------- 265.0/376.0 MB 4.7 MB/s eta 0:00:24\n",
      "   ---------------------------- ----------- 265.8/376.0 MB 4.7 MB/s eta 0:00:24\n",
      "   ---------------------------- ----------- 267.1/376.0 MB 4.7 MB/s eta 0:00:24\n",
      "   ---------------------------- ----------- 268.2/376.0 MB 4.7 MB/s eta 0:00:23\n",
      "   ---------------------------- ----------- 269.2/376.0 MB 4.7 MB/s eta 0:00:23\n",
      "   ---------------------------- ----------- 270.3/376.0 MB 4.7 MB/s eta 0:00:23\n",
      "   ---------------------------- ----------- 271.3/376.0 MB 4.7 MB/s eta 0:00:23\n",
      "   ---------------------------- ----------- 272.4/376.0 MB 4.7 MB/s eta 0:00:23\n",
      "   ----------------------------- ---------- 273.4/376.0 MB 4.7 MB/s eta 0:00:22\n",
      "   ----------------------------- ---------- 274.5/376.0 MB 4.7 MB/s eta 0:00:22\n",
      "   ----------------------------- ---------- 275.5/376.0 MB 4.7 MB/s eta 0:00:22\n",
      "   ----------------------------- ---------- 276.6/376.0 MB 4.7 MB/s eta 0:00:22\n",
      "   ----------------------------- ---------- 277.6/376.0 MB 4.7 MB/s eta 0:00:21\n",
      "   ----------------------------- ---------- 278.4/376.0 MB 4.7 MB/s eta 0:00:21\n",
      "   ----------------------------- ---------- 279.7/376.0 MB 4.7 MB/s eta 0:00:21\n",
      "   ----------------------------- ---------- 280.8/376.0 MB 4.7 MB/s eta 0:00:21\n",
      "   ----------------------------- ---------- 281.5/376.0 MB 4.7 MB/s eta 0:00:21\n",
      "   ------------------------------ --------- 282.6/376.0 MB 4.7 MB/s eta 0:00:20\n",
      "   ------------------------------ --------- 283.6/376.0 MB 4.7 MB/s eta 0:00:20\n",
      "   ------------------------------ --------- 285.0/376.0 MB 4.7 MB/s eta 0:00:20\n",
      "   ------------------------------ --------- 286.0/376.0 MB 4.7 MB/s eta 0:00:20\n",
      "   ------------------------------ --------- 287.3/376.0 MB 4.7 MB/s eta 0:00:19\n",
      "   ------------------------------ --------- 288.4/376.0 MB 4.7 MB/s eta 0:00:19\n",
      "   ------------------------------ --------- 289.4/376.0 MB 4.7 MB/s eta 0:00:19\n",
      "   ------------------------------ --------- 290.7/376.0 MB 4.7 MB/s eta 0:00:19\n",
      "   ------------------------------- -------- 292.0/376.0 MB 4.7 MB/s eta 0:00:18\n",
      "   ------------------------------- -------- 293.3/376.0 MB 4.8 MB/s eta 0:00:18\n",
      "   ------------------------------- -------- 294.6/376.0 MB 4.8 MB/s eta 0:00:18\n",
      "   ------------------------------- -------- 295.7/376.0 MB 4.8 MB/s eta 0:00:17\n",
      "   ------------------------------- -------- 297.0/376.0 MB 4.8 MB/s eta 0:00:17\n",
      "   ------------------------------- -------- 298.3/376.0 MB 4.8 MB/s eta 0:00:17\n",
      "   ------------------------------- -------- 299.4/376.0 MB 4.8 MB/s eta 0:00:17\n",
      "   -------------------------------- ------- 300.9/376.0 MB 4.8 MB/s eta 0:00:16\n",
      "   -------------------------------- ------- 302.0/376.0 MB 4.8 MB/s eta 0:00:16\n",
      "   -------------------------------- ------- 303.0/376.0 MB 4.8 MB/s eta 0:00:16\n",
      "   -------------------------------- ------- 304.6/376.0 MB 4.8 MB/s eta 0:00:15\n",
      "   -------------------------------- ------- 305.9/376.0 MB 4.8 MB/s eta 0:00:15\n",
      "   -------------------------------- ------- 307.0/376.0 MB 4.8 MB/s eta 0:00:15\n",
      "   -------------------------------- ------- 308.5/376.0 MB 4.8 MB/s eta 0:00:14\n",
      "   -------------------------------- ------- 309.9/376.0 MB 4.9 MB/s eta 0:00:14\n",
      "   --------------------------------- ------ 311.2/376.0 MB 4.9 MB/s eta 0:00:14\n",
      "   --------------------------------- ------ 312.5/376.0 MB 4.9 MB/s eta 0:00:14\n",
      "   --------------------------------- ------ 314.0/376.0 MB 4.9 MB/s eta 0:00:13\n",
      "   --------------------------------- ------ 315.4/376.0 MB 4.9 MB/s eta 0:00:13\n",
      "   --------------------------------- ------ 316.7/376.0 MB 4.9 MB/s eta 0:00:13\n",
      "   --------------------------------- ------ 317.7/376.0 MB 4.9 MB/s eta 0:00:12\n",
      "   --------------------------------- ------ 318.8/376.0 MB 4.9 MB/s eta 0:00:12\n",
      "   ---------------------------------- ----- 320.1/376.0 MB 4.9 MB/s eta 0:00:12\n",
      "   ---------------------------------- ----- 321.4/376.0 MB 4.9 MB/s eta 0:00:12\n",
      "   ---------------------------------- ----- 323.0/376.0 MB 4.9 MB/s eta 0:00:11\n",
      "   ---------------------------------- ----- 324.3/376.0 MB 5.0 MB/s eta 0:00:11\n",
      "   ---------------------------------- ----- 325.6/376.0 MB 5.0 MB/s eta 0:00:11\n",
      "   ---------------------------------- ----- 326.9/376.0 MB 5.0 MB/s eta 0:00:10\n",
      "   ---------------------------------- ----- 328.5/376.0 MB 5.0 MB/s eta 0:00:10\n",
      "   ----------------------------------- ---- 329.8/376.0 MB 5.0 MB/s eta 0:00:10\n",
      "   ----------------------------------- ---- 331.1/376.0 MB 5.0 MB/s eta 0:00:09\n",
      "   ----------------------------------- ---- 332.4/376.0 MB 5.0 MB/s eta 0:00:09\n",
      "   ----------------------------------- ---- 333.7/376.0 MB 5.0 MB/s eta 0:00:09\n",
      "   ----------------------------------- ---- 335.0/376.0 MB 5.0 MB/s eta 0:00:09\n",
      "   ----------------------------------- ---- 336.1/376.0 MB 5.0 MB/s eta 0:00:08\n",
      "   ----------------------------------- ---- 337.1/376.0 MB 5.0 MB/s eta 0:00:08\n",
      "   ------------------------------------ --- 338.7/376.0 MB 5.0 MB/s eta 0:00:08\n",
      "   ------------------------------------ --- 340.0/376.0 MB 5.0 MB/s eta 0:00:08\n",
      "   ------------------------------------ --- 341.3/376.0 MB 5.1 MB/s eta 0:00:07\n",
      "   ------------------------------------ --- 342.4/376.0 MB 5.1 MB/s eta 0:00:07\n",
      "   ------------------------------------ --- 343.7/376.0 MB 5.1 MB/s eta 0:00:07\n",
      "   ------------------------------------ --- 345.2/376.0 MB 5.1 MB/s eta 0:00:07\n",
      "   ------------------------------------ --- 346.6/376.0 MB 5.1 MB/s eta 0:00:06\n",
      "   ------------------------------------- -- 347.9/376.0 MB 5.1 MB/s eta 0:00:06\n",
      "   ------------------------------------- -- 349.2/376.0 MB 5.1 MB/s eta 0:00:06\n",
      "   ------------------------------------- -- 350.5/376.0 MB 5.1 MB/s eta 0:00:05\n",
      "   ------------------------------------- -- 351.5/376.0 MB 5.1 MB/s eta 0:00:05\n",
      "   ------------------------------------- -- 352.8/376.0 MB 5.1 MB/s eta 0:00:05\n",
      "   ------------------------------------- -- 354.2/376.0 MB 5.1 MB/s eta 0:00:05\n",
      "   ------------------------------------- -- 355.2/376.0 MB 5.1 MB/s eta 0:00:05\n",
      "   ------------------------------------- -- 356.5/376.0 MB 5.1 MB/s eta 0:00:04\n",
      "   -------------------------------------- - 357.6/376.0 MB 5.1 MB/s eta 0:00:04\n",
      "   -------------------------------------- - 359.1/376.0 MB 5.1 MB/s eta 0:00:04\n",
      "   -------------------------------------- - 360.4/376.0 MB 5.1 MB/s eta 0:00:04\n",
      "   -------------------------------------- - 361.8/376.0 MB 5.1 MB/s eta 0:00:03\n",
      "   -------------------------------------- - 363.1/376.0 MB 5.2 MB/s eta 0:00:03\n",
      "   -------------------------------------- - 364.1/376.0 MB 5.2 MB/s eta 0:00:03\n",
      "   -------------------------------------- - 365.4/376.0 MB 5.2 MB/s eta 0:00:03\n",
      "   -------------------------------------- - 366.5/376.0 MB 5.2 MB/s eta 0:00:02\n",
      "   ---------------------------------------  367.8/376.0 MB 5.2 MB/s eta 0:00:02\n",
      "   ---------------------------------------  368.8/376.0 MB 5.2 MB/s eta 0:00:02\n",
      "   ---------------------------------------  369.9/376.0 MB 5.2 MB/s eta 0:00:02\n",
      "   ---------------------------------------  370.9/376.0 MB 5.2 MB/s eta 0:00:01\n",
      "   ---------------------------------------  372.0/376.0 MB 5.2 MB/s eta 0:00:01\n",
      "   ---------------------------------------  372.8/376.0 MB 5.2 MB/s eta 0:00:01\n",
      "   ---------------------------------------  372.8/376.0 MB 5.2 MB/s eta 0:00:01\n",
      "   ---------------------------------------  373.3/376.0 MB 5.1 MB/s eta 0:00:01\n",
      "   ---------------------------------------  374.6/376.0 MB 5.1 MB/s eta 0:00:01\n",
      "   ---------------------------------------  375.7/376.0 MB 5.1 MB/s eta 0:00:01\n",
      "   ---------------------------------------  375.9/376.0 MB 5.1 MB/s eta 0:00:01\n",
      "   ---------------------------------------  375.9/376.0 MB 5.1 MB/s eta 0:00:01\n",
      "   ---------------------------------------  375.9/376.0 MB 5.1 MB/s eta 0:00:01\n",
      "   ---------------------------------------- 376.0/376.0 MB 5.0 MB/s eta 0:00:00\n",
      "Downloading ml_dtypes-0.5.1-cp312-cp312-win_amd64.whl (210 kB)\n",
      "Downloading tensorboard-2.19.0-py3-none-any.whl (5.5 MB)\n",
      "   ---------------------------------------- 0.0/5.5 MB ? eta -:--:--\n",
      "   ------- -------------------------------- 1.0/5.5 MB 6.3 MB/s eta 0:00:01\n",
      "   --------------- ------------------------ 2.1/5.5 MB 5.6 MB/s eta 0:00:01\n",
      "   ------------------------ --------------- 3.4/5.5 MB 5.6 MB/s eta 0:00:01\n",
      "   ---------------------------------- ----- 4.7/5.5 MB 5.6 MB/s eta 0:00:01\n",
      "   ---------------------------------------- 5.5/5.5 MB 5.3 MB/s eta 0:00:00\n",
      "Installing collected packages: ml-dtypes, tensorboard, tensorflow\n",
      "  Attempting uninstall: ml-dtypes\n",
      "    Found existing installation: ml-dtypes 0.4.1\n",
      "    Uninstalling ml-dtypes-0.4.1:\n",
      "      Successfully uninstalled ml-dtypes-0.4.1\n",
      "  Attempting uninstall: tensorboard\n",
      "    Found existing installation: tensorboard 2.18.0\n",
      "    Uninstalling tensorboard-2.18.0:\n",
      "      Successfully uninstalled tensorboard-2.18.0\n",
      "  Attempting uninstall: tensorflow\n",
      "    Found existing installation: tensorflow 2.18.0\n",
      "    Uninstalling tensorflow-2.18.0:\n",
      "      Successfully uninstalled tensorflow-2.18.0\n",
      "  Rolling back uninstall of tensorflow\n",
      "  Moving to c:\\users\\integrated\\anaconda3\\lib\\site-packages\\tensorflow-2.18.0.dist-info\\\n",
      "   from C:\\Users\\Integrated\\anaconda3\\Lib\\site-packages\\~ensorflow-2.18.0.dist-info\n",
      "Note: you may need to restart the kernel to use updated packages.\n"
     ]
    },
    {
     "name": "stderr",
     "output_type": "stream",
     "text": [
      "  WARNING: Failed to remove contents in a temporary directory 'C:\\Users\\Integrated\\anaconda3\\Lib\\site-packages\\~l_dtypes'.\n",
      "  You can safely remove it manually.\n",
      "ERROR: Could not install packages due to an OSError: [WinError 5] Access is denied: 'C:\\\\Users\\\\Integrated\\\\anaconda3\\\\Lib\\\\site-packages\\\\tensorflow\\\\compiler\\\\mlir\\\\lite\\\\python\\\\_pywrap_converter_api.pyd'\n",
      "Consider using the `--user` option or check the permissions.\n",
      "\n"
     ]
    }
   ],
   "source": [
    "pip install --upgrade tensorflow"
   ]
  },
  {
   "cell_type": "code",
   "execution_count": 59,
   "id": "b8784d8b-fa48-49ff-82fb-af9d23ef9a57",
   "metadata": {},
   "outputs": [
    {
     "name": "stdout",
     "output_type": "stream",
     "text": [
      "Requirement already satisfied: keras in c:\\users\\integrated\\anaconda3\\lib\\site-packages (3.9.0)\n",
      "Requirement already satisfied: absl-py in c:\\users\\integrated\\anaconda3\\lib\\site-packages (from keras) (2.1.0)\n",
      "Requirement already satisfied: numpy in c:\\users\\integrated\\anaconda3\\lib\\site-packages (from keras) (1.26.4)\n",
      "Requirement already satisfied: rich in c:\\users\\integrated\\anaconda3\\lib\\site-packages (from keras) (13.7.1)\n",
      "Requirement already satisfied: namex in c:\\users\\integrated\\anaconda3\\lib\\site-packages (from keras) (0.0.8)\n",
      "Requirement already satisfied: h5py in c:\\users\\integrated\\anaconda3\\lib\\site-packages (from keras) (3.11.0)\n",
      "Requirement already satisfied: optree in c:\\users\\integrated\\anaconda3\\lib\\site-packages (from keras) (0.14.1)\n",
      "Requirement already satisfied: ml-dtypes in c:\\users\\integrated\\anaconda3\\lib\\site-packages (from keras) (0.5.1)\n",
      "Requirement already satisfied: packaging in c:\\users\\integrated\\anaconda3\\lib\\site-packages (from keras) (24.1)\n",
      "Requirement already satisfied: typing-extensions>=4.5.0 in c:\\users\\integrated\\anaconda3\\lib\\site-packages (from optree->keras) (4.11.0)\n",
      "Requirement already satisfied: markdown-it-py>=2.2.0 in c:\\users\\integrated\\anaconda3\\lib\\site-packages (from rich->keras) (2.2.0)\n",
      "Requirement already satisfied: pygments<3.0.0,>=2.13.0 in c:\\users\\integrated\\anaconda3\\lib\\site-packages (from rich->keras) (2.15.1)\n",
      "Requirement already satisfied: mdurl~=0.1 in c:\\users\\integrated\\anaconda3\\lib\\site-packages (from markdown-it-py>=2.2.0->rich->keras) (0.1.0)\n",
      "Note: you may need to restart the kernel to use updated packages.\n"
     ]
    }
   ],
   "source": [
    "pip install keras\n"
   ]
  },
  {
   "cell_type": "code",
   "execution_count": 60,
   "id": "ab6fb61a-f890-46d1-8c78-13486795e32f",
   "metadata": {},
   "outputs": [
    {
     "name": "stdout",
     "output_type": "stream",
     "text": [
      "3.9.0\n"
     ]
    }
   ],
   "source": [
    "import keras\n",
    "print(keras.__version__)\n"
   ]
  },
  {
   "cell_type": "markdown",
   "id": "8a57b7d4-0d57-4280-a685-deead96eec93",
   "metadata": {},
   "source": [
    "### 4. Evaluation\n",
    "## Metrics Used\n",
    "    To evaluate the performance of the classification model, we used the following metrics:\n",
    "\n",
    "# Accuracy: Overall, how often the classifier is correct.\n",
    "# Precision: How many of the predicted positives are truly positive.\n",
    "# Recall: How many of the actual positives are captured.\n",
    "# F1-Score: Harmonic mean of precision and recall, useful for imbalanced datasets.\n",
    "# We also plotted accuracy and loss over epochs for training and validation sets.\n",
    "\n",
    "## Hyperparameter Tuning Discussion\n",
    "    The initial model used default hyperparameters (optimizer='adam', batch_size=32, epochs=20). Later, we applied GridSearchCV to tune the following:\n",
    "\n",
    "    batch_size: [32, 64]\n",
    "    epochs: [10, 20]\n",
    "    optimizer: ['adam', 'sgd']\n",
    "    The best results were obtained using the following configuration:\n",
    "    print(f\"Best: {grid_result.best_score_} using {grid_result.best_params_}\")\n",
    "    Best: 0.9334374291719066 using {'batch_size': 32, 'epochs': 20, 'optimizer': 'sgd'}\n",
    "\n",
    "    \n",
    "\n",
    "## Performance Comparison\n",
    "    The tuned model demonstrated improved accuracy compared to the default model, especially in terms of validation accuracy. GridSearchCV enabled systematic tuning which helped avoid overfitting and led to a more generalized model.\n",
    "\n",
    "## Evaluation Metrics Output\n",
    "from sklearn.metrics import classification_report, confusion_matrix\n",
    "y_pred = model.predict(X_test)\n",
    "print(\"Classification Report:\")\n",
    "print(classification_report(Y_test, y_pred))\n",
    "print(\"Confusion Matrix:\")\n",
    "print(confusion_matrix(Y_test, y_pred))"
   ]
  },
  {
   "cell_type": "code",
   "execution_count": null,
   "id": "eeb6f8dd-9b70-4f2b-a4de-84d94c28e796",
   "metadata": {},
   "outputs": [],
   "source": []
  }
 ],
 "metadata": {
  "kernelspec": {
   "display_name": "Python [conda env:base] *",
   "language": "python",
   "name": "conda-base-py"
  },
  "language_info": {
   "codemirror_mode": {
    "name": "ipython",
    "version": 3
   },
   "file_extension": ".py",
   "mimetype": "text/x-python",
   "name": "python",
   "nbconvert_exporter": "python",
   "pygments_lexer": "ipython3",
   "version": "3.12.7"
  }
 },
 "nbformat": 4,
 "nbformat_minor": 5
}
