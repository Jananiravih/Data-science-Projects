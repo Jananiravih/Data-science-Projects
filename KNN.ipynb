{
 "cells": [
  {
   "cell_type": "code",
   "execution_count": 14,
   "id": "0b434a94",
   "metadata": {},
   "outputs": [
    {
     "name": "stdout",
     "output_type": "stream",
     "text": [
      "       animal name        hair    feathers        eggs        milk  \\\n",
      "count          101  101.000000  101.000000  101.000000  101.000000   \n",
      "unique         100         NaN         NaN         NaN         NaN   \n",
      "top           frog         NaN         NaN         NaN         NaN   \n",
      "freq             2         NaN         NaN         NaN         NaN   \n",
      "mean           NaN    0.425743    0.198020    0.584158    0.405941   \n",
      "std            NaN    0.496921    0.400495    0.495325    0.493522   \n",
      "min            NaN    0.000000    0.000000    0.000000    0.000000   \n",
      "25%            NaN    0.000000    0.000000    0.000000    0.000000   \n",
      "50%            NaN    0.000000    0.000000    1.000000    0.000000   \n",
      "75%            NaN    1.000000    0.000000    1.000000    1.000000   \n",
      "max            NaN    1.000000    1.000000    1.000000    1.000000   \n",
      "\n",
      "          airborne     aquatic    predator     toothed    backbone  \\\n",
      "count   101.000000  101.000000  101.000000  101.000000  101.000000   \n",
      "unique         NaN         NaN         NaN         NaN         NaN   \n",
      "top            NaN         NaN         NaN         NaN         NaN   \n",
      "freq           NaN         NaN         NaN         NaN         NaN   \n",
      "mean      0.237624    0.356436    0.554455    0.603960    0.821782   \n",
      "std       0.427750    0.481335    0.499505    0.491512    0.384605   \n",
      "min       0.000000    0.000000    0.000000    0.000000    0.000000   \n",
      "25%       0.000000    0.000000    0.000000    0.000000    1.000000   \n",
      "50%       0.000000    0.000000    1.000000    1.000000    1.000000   \n",
      "75%       0.000000    1.000000    1.000000    1.000000    1.000000   \n",
      "max       1.000000    1.000000    1.000000    1.000000    1.000000   \n",
      "\n",
      "          breathes    venomous        fins        legs        tail  \\\n",
      "count   101.000000  101.000000  101.000000  101.000000  101.000000   \n",
      "unique         NaN         NaN         NaN         NaN         NaN   \n",
      "top            NaN         NaN         NaN         NaN         NaN   \n",
      "freq           NaN         NaN         NaN         NaN         NaN   \n",
      "mean      0.792079    0.079208    0.168317    2.841584    0.742574   \n",
      "std       0.407844    0.271410    0.376013    2.033385    0.439397   \n",
      "min       0.000000    0.000000    0.000000    0.000000    0.000000   \n",
      "25%       1.000000    0.000000    0.000000    2.000000    0.000000   \n",
      "50%       1.000000    0.000000    0.000000    4.000000    1.000000   \n",
      "75%       1.000000    0.000000    0.000000    4.000000    1.000000   \n",
      "max       1.000000    1.000000    1.000000    8.000000    1.000000   \n",
      "\n",
      "          domestic     catsize        type  \n",
      "count   101.000000  101.000000  101.000000  \n",
      "unique         NaN         NaN         NaN  \n",
      "top            NaN         NaN         NaN  \n",
      "freq           NaN         NaN         NaN  \n",
      "mean      0.128713    0.435644    2.831683  \n",
      "std       0.336552    0.498314    2.102709  \n",
      "min       0.000000    0.000000    1.000000  \n",
      "25%       0.000000    0.000000    1.000000  \n",
      "50%       0.000000    0.000000    2.000000  \n",
      "75%       0.000000    1.000000    4.000000  \n",
      "max       1.000000    1.000000    7.000000  \n",
      "<class 'pandas.core.frame.DataFrame'>\n",
      "RangeIndex: 101 entries, 0 to 100\n",
      "Data columns (total 18 columns):\n",
      " #   Column       Non-Null Count  Dtype \n",
      "---  ------       --------------  ----- \n",
      " 0   animal name  101 non-null    object\n",
      " 1   hair         101 non-null    int64 \n",
      " 2   feathers     101 non-null    int64 \n",
      " 3   eggs         101 non-null    int64 \n",
      " 4   milk         101 non-null    int64 \n",
      " 5   airborne     101 non-null    int64 \n",
      " 6   aquatic      101 non-null    int64 \n",
      " 7   predator     101 non-null    int64 \n",
      " 8   toothed      101 non-null    int64 \n",
      " 9   backbone     101 non-null    int64 \n",
      " 10  breathes     101 non-null    int64 \n",
      " 11  venomous     101 non-null    int64 \n",
      " 12  fins         101 non-null    int64 \n",
      " 13  legs         101 non-null    int64 \n",
      " 14  tail         101 non-null    int64 \n",
      " 15  domestic     101 non-null    int64 \n",
      " 16  catsize      101 non-null    int64 \n",
      " 17  type         101 non-null    int64 \n",
      "dtypes: int64(17), object(1)\n",
      "memory usage: 14.3+ KB\n",
      "None\n"
     ]
    }
   ],
   "source": [
    "import pandas as pd\n",
    "import numpy as np\n",
    "import seaborn as sns\n",
    "import matplotlib.pyplot as plt\n",
    "from sklearn.model_selection import train_test_split\n",
    "from sklearn.preprocessing import StandardScaler\n",
    "from sklearn.neighbors import KNeighborsClassifier\n",
    "from sklearn.metrics import accuracy_score, precision_score, recall_score, f1_score, classification_report\n",
    "from matplotlib.colors import ListedColormap\n",
    "\n",
    "\n",
    "# Load the datasets\n",
    "df = pd.read_csv('Zoo.csv')\n",
    "# Exploratory Data Analysis (EDA)\n",
    "print(df.describe(include='all'))\n",
    "print(df.info())\n",
    "\n",
    "# Handling Missing Values\n",
    "df.fillna(0, inplace=True)  # Assuming no missing values as it's a small dataset\n",
    "\n",
    "# Splitting the dataset into features and target variable\n",
    "X = df.drop(columns=['animal name', 'type'])  # Features\n",
    "y = df['type']  # Target\n",
    "\n",
    "# Feature Scaling \n",
    "scaler = StandardScaler()\n",
    "X_scaled = scaler.fit_transform(X)\n",
    "\n",
    "\n",
    "\n"
   ]
  },
  {
   "cell_type": "code",
   "execution_count": 18,
   "id": "9e130dca",
   "metadata": {},
   "outputs": [],
   "source": [
    "# Split the data into training and testing sets\n",
    "X_train, X_test, y_train, y_test = train_test_split(X_scaled, y, test_size=0.2, random_state=42)\n",
    "# Create KNN Classifier\n",
    "knn = KNeighborsClassifier(n_neighbors=3)  # You can tune the value of K\n",
    "\n",
    "# Train the model using the training sets\n",
    "knn.fit(X_train, y_train)\n",
    "\n",
    "\n",
    "y_pred = knn.predict(X_test)"
   ]
  },
  {
   "cell_type": "code",
   "execution_count": 19,
   "id": "c081be9b",
   "metadata": {},
   "outputs": [
    {
     "name": "stdout",
     "output_type": "stream",
     "text": [
      "Accuracy: 1.0\n",
      "Precision: 1.0\n",
      "Recall: 1.0\n",
      "F1-Score: 1.0\n",
      "\n",
      "Classification Report:\n",
      "               precision    recall  f1-score   support\n",
      "\n",
      "           1       1.00      1.00      1.00        12\n",
      "           2       1.00      1.00      1.00         2\n",
      "           3       1.00      1.00      1.00         1\n",
      "           4       1.00      1.00      1.00         2\n",
      "           6       1.00      1.00      1.00         3\n",
      "           7       1.00      1.00      1.00         1\n",
      "\n",
      "    accuracy                           1.00        21\n",
      "   macro avg       1.00      1.00      1.00        21\n",
      "weighted avg       1.00      1.00      1.00        21\n",
      "\n"
     ]
    }
   ],
   "source": [
    "# Evaluating the Model\n",
    "accuracy = accuracy_score(y_test, y_pred)\n",
    "precision = precision_score(y_test, y_pred, average='weighted')\n",
    "recall = recall_score(y_test, y_pred, average='weighted')\n",
    "f1 = f1_score(y_test, y_pred, average='weighted')\n",
    "\n",
    "print(f'Accuracy: {accuracy}')\n",
    "print(f'Precision: {precision}')\n",
    "print(f'Recall: {recall}')\n",
    "print(f'F1-Score: {f1}')\n",
    "print(\"\\nClassification Report:\\n\", classification_report(y_test, y_pred))\n"
   ]
  },
  {
   "cell_type": "code",
   "execution_count": 20,
   "id": "462b444b",
   "metadata": {},
   "outputs": [
    {
     "data": {
      "image/png": "[encoded data removed]",
      "text/plain": [
       "<Figure size 800x600 with 1 Axes>"
      ]
     },
     "metadata": {},
     "output_type": "display_data"
    }
   ],
   "source": [
    "\n",
    "def plot_decision_boundary(X, y, model, title=\"Decision Boundary\"):\n",
    "    h = .02  # step size in the mesh\n",
    "    X = X[:, :2]  # we only take the first two features.\n",
    "    x_min, x_max = X[:, 0].min() - 1, X[:, 0].max() + 1\n",
    "    y_min, y_max = X[:, 1].min() - 1, X[:, 1].max() + 1\n",
    "    xx, yy = np.meshgrid(np.arange(x_min, x_max, h),\n",
    "                         np.arange(y_min, y_max, h))\n",
    "\n",
    "    Z = model.predict(np.c_[xx.ravel(), yy.ravel()])\n",
    "    Z = Z.reshape(xx.shape)\n",
    "    \n",
    "    plt.figure(figsize=(8, 6))\n",
    "    plt.contourf(xx, yy, Z, alpha=0.8, cmap=ListedColormap(('red', 'green', 'blue')))\n",
    "    plt.scatter(X[:, 0], X[:, 1], c=y, edgecolors='k', marker='o', cmap=ListedColormap(('red', 'green', 'blue')))\n",
    "    plt.title(title)\n",
    "    plt.xlabel('Feature 1')\n",
    "    plt.ylabel('Feature 2')\n",
    "    plt.show()\n",
    "\n",
    "# Using only first two features for visualization\n",
    "X_train_2d = X_train[:, :2]\n",
    "knn.fit(X_train_2d, y_train)\n",
    "plot_decision_boundary(X_train_2d, y_train, knn, title=\"KNN Decision Boundary (2 features)\")\n"
   ]
  },
  {
   "cell_type": "code",
   "execution_count": 21,
   "id": "48f18148",
   "metadata": {},
   "outputs": [
    {
     "name": "stdout",
     "output_type": "stream",
     "text": [
      "For K=1, Accuracy=1.0000\n",
      "For K=2, Accuracy=1.0000\n",
      "For K=3, Accuracy=1.0000\n",
      "For K=4, Accuracy=0.9524\n",
      "For K=5, Accuracy=0.9524\n",
      "For K=6, Accuracy=0.9524\n",
      "For K=7, Accuracy=0.9524\n",
      "For K=8, Accuracy=0.9524\n",
      "For K=9, Accuracy=0.9048\n",
      "For K=10, Accuracy=0.9048\n"
     ]
    }
   ],
   "source": [
    "# Trying different values of K\n",
    "for k in range(1, 11):\n",
    "    knn = KNeighborsClassifier(n_neighbors=k)\n",
    "    knn.fit(X_train, y_train)\n",
    "    y_pred = knn.predict(X_test)\n",
    "    print(f'For K={k}, Accuracy={accuracy_score(y_test, y_pred):.4f}')\n"
   ]
  },
  {
   "cell_type": "markdown",
   "id": "7a38e412",
   "metadata": {},
   "source": [
    "## 1. What are the key hyperparameters in KNN?\n",
    "K (number of neighbors): It determines the number of nearest neighbors to consider for classification.\n",
    "\n",
    "Distance Metric: Commonly used metrics include Euclidean, Manhattan, and Minkowski distance.\n",
    "\n",
    "Weighting Scheme: Neighbors can be weighted uniformly or based on their distance to the query point."
   ]
  },
  {
   "cell_type": "markdown",
   "id": "9127a0d2",
   "metadata": {},
   "source": [
    "## 2. What distance metrics can be used in KNN?\n",
    "\n",
    "Euclidean Distance: The straight-line distance between two points in Euclidean space.\n",
    "    \n",
    "Manhattan Distance: The sum of the absolute differences of their Cartesian coordinates.\n",
    "    \n",
    "Minkowski Distance: A generalized metric that includes both Euclidean and Manhattan distances as special cases."
   ]
  }
 ],
 "metadata": {
  "kernelspec": {
   "display_name": "Python 3 (ipykernel)",
   "language": "python",
   "name": "python3"
  },
  "language_info": {
   "codemirror_mode": {
    "name": "ipython",
    "version": 3
   },
   "file_extension": ".py",
   "mimetype": "text/x-python",
   "name": "python",
   "nbconvert_exporter": "python",
   "pygments_lexer": "ipython3",
   "version": "3.11.5"
  }
 },
 "nbformat": 4,
 "nbformat_minor": 5
}
