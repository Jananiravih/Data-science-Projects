{
 "cells": [
  {
   "cell_type": "code",
   "execution_count": 2,
   "id": "45ba6173-d612-43d5-80c2-81a0c7d5715c",
   "metadata": {},
   "outputs": [
    {
     "name": "stdout",
     "output_type": "stream",
     "text": [
      "Collecting mlxtend\n",
      "  Downloading mlxtend-0.23.4-py3-none-any.whl.metadata (7.3 kB)\n",
      "Requirement already satisfied: scipy>=1.2.1 in c:\\users\\integrated\\anaconda3\\lib\\site-packages (from mlxtend) (1.13.1)\n",
      "Requirement already satisfied: numpy>=1.16.2 in c:\\users\\integrated\\anaconda3\\lib\\site-packages (from mlxtend) (1.26.4)\n",
      "Requirement already satisfied: pandas>=0.24.2 in c:\\users\\integrated\\anaconda3\\lib\\site-packages (from mlxtend) (2.2.2)\n",
      "Requirement already satisfied: scikit-learn>=1.3.1 in c:\\users\\integrated\\anaconda3\\lib\\site-packages (from mlxtend) (1.5.1)\n",
      "Requirement already satisfied: matplotlib>=3.0.0 in c:\\users\\integrated\\anaconda3\\lib\\site-packages (from mlxtend) (3.9.2)\n",
      "Requirement already satisfied: joblib>=0.13.2 in c:\\users\\integrated\\anaconda3\\lib\\site-packages (from mlxtend) (1.4.2)\n",
      "Requirement already satisfied: contourpy>=1.0.1 in c:\\users\\integrated\\anaconda3\\lib\\site-packages (from matplotlib>=3.0.0->mlxtend) (1.2.0)\n",
      "Requirement already satisfied: cycler>=0.10 in c:\\users\\integrated\\anaconda3\\lib\\site-packages (from matplotlib>=3.0.0->mlxtend) (0.11.0)\n",
      "Requirement already satisfied: fonttools>=4.22.0 in c:\\users\\integrated\\anaconda3\\lib\\site-packages (from matplotlib>=3.0.0->mlxtend) (4.51.0)\n",
      "Requirement already satisfied: kiwisolver>=1.3.1 in c:\\users\\integrated\\anaconda3\\lib\\site-packages (from matplotlib>=3.0.0->mlxtend) (1.4.4)\n",
      "Requirement already satisfied: packaging>=20.0 in c:\\users\\integrated\\anaconda3\\lib\\site-packages (from matplotlib>=3.0.0->mlxtend) (24.1)\n",
      "Requirement already satisfied: pillow>=8 in c:\\users\\integrated\\anaconda3\\lib\\site-packages (from matplotlib>=3.0.0->mlxtend) (10.4.0)\n",
      "Requirement already satisfied: pyparsing>=2.3.1 in c:\\users\\integrated\\anaconda3\\lib\\site-packages (from matplotlib>=3.0.0->mlxtend) (3.1.2)\n",
      "Requirement already satisfied: python-dateutil>=2.7 in c:\\users\\integrated\\anaconda3\\lib\\site-packages (from matplotlib>=3.0.0->mlxtend) (2.9.0.post0)\n",
      "Requirement already satisfied: pytz>=2020.1 in c:\\users\\integrated\\anaconda3\\lib\\site-packages (from pandas>=0.24.2->mlxtend) (2024.1)\n",
      "Requirement already satisfied: tzdata>=2022.7 in c:\\users\\integrated\\anaconda3\\lib\\site-packages (from pandas>=0.24.2->mlxtend) (2023.3)\n",
      "Requirement already satisfied: threadpoolctl>=3.1.0 in c:\\users\\integrated\\anaconda3\\lib\\site-packages (from scikit-learn>=1.3.1->mlxtend) (3.5.0)\n",
      "Requirement already satisfied: six>=1.5 in c:\\users\\integrated\\anaconda3\\lib\\site-packages (from python-dateutil>=2.7->matplotlib>=3.0.0->mlxtend) (1.16.0)\n",
      "Downloading mlxtend-0.23.4-py3-none-any.whl (1.4 MB)\n",
      "   ---------------------------------------- 0.0/1.4 MB ? eta -:--:--\n",
      "   --------------- ------------------------ 0.5/1.4 MB 4.2 MB/s eta 0:00:01\n",
      "   ---------------------------------------- 1.4/1.4 MB 3.5 MB/s eta 0:00:00\n",
      "Installing collected packages: mlxtend\n",
      "Successfully installed mlxtend-0.23.4\n",
      "Note: you may need to restart the kernel to use updated packages.\n"
     ]
    }
   ],
   "source": [
    "pip install mlxtend\n"
   ]
  },
  {
   "cell_type": "code",
   "execution_count": 6,
   "id": "48ab6ed1-651a-4aa4-9b0c-649ece92468b",
   "metadata": {},
   "outputs": [],
   "source": [
    "import pandas as pd\n",
    "from mlxtend.preprocessing import TransactionEncoder\n",
    "from mlxtend.frequent_patterns import apriori, association_rules\n",
    "\n",
    "df = pd.read_excel(\"Documents/Python/Online retail.xlsx\" , header=None)\n",
    "df.columns = ['Items']\n",
    "df.dropna(inplace=True)\n"
   ]
  },
  {
   "cell_type": "code",
   "execution_count": 16,
   "id": "028ebf3d-a2e1-4bc4-b3e3-86439809380c",
   "metadata": {},
   "outputs": [
    {
     "name": "stdout",
     "output_type": "stream",
     "text": [
      "\n",
      " Preprocessing transactions\n",
      "Total transactions: 7501\n",
      " Sample transaction: ['shrimp', 'almonds', 'avocado', 'vegetables mix', 'green grapes', 'whole weat flour', 'yams', 'cottage cheese', 'energy drink', 'tomato juice', 'low fat yogurt', 'green tea', 'honey', 'salad', 'mineral water', 'salmon', 'antioxydant juice', 'frozen smoothie', 'spinach', 'olive oil']\n"
     ]
    }
   ],
   "source": [
    "# Preprocessing\n",
    "print(\"\\n Preprocessing transactions\")\n",
    "transactions = df['Items'].apply(lambda x: x.split(','))\n",
    "print(f\"Total transactions: {len(transactions)}\")\n",
    "print(\" Sample transaction:\", transactions.iloc[0])"
   ]
  },
  {
   "cell_type": "code",
   "execution_count": 22,
   "id": "e48606b9-7217-42e7-bf5a-72bc83d1f926",
   "metadata": {},
   "outputs": [
    {
     "name": "stdout",
     "output_type": "stream",
     "text": [
      "\n",
      "🔹 Performing one-hot encoding...\n",
      "    asparagus  almonds  antioxydant juice  asparagus  avocado  babies food  \\\n",
      "0       False     True               True      False     True        False   \n",
      "1       False    False              False      False    False        False   \n",
      "2       False    False              False      False    False        False   \n",
      "3       False    False              False      False     True        False   \n",
      "4       False    False              False      False    False        False   \n",
      "\n",
      "   bacon  barbecue sauce  black tea  blueberries  ...  turkey  vegetables mix  \\\n",
      "0  False           False      False        False  ...   False            True   \n",
      "1  False           False      False        False  ...   False           False   \n",
      "2  False           False      False        False  ...   False           False   \n",
      "3  False           False      False        False  ...    True           False   \n",
      "4  False           False      False        False  ...   False           False   \n",
      "\n",
      "   water spray  white wine  whole weat flour  whole wheat pasta  \\\n",
      "0        False       False              True              False   \n",
      "1        False       False             False              False   \n",
      "2        False       False             False              False   \n",
      "3        False       False             False              False   \n",
      "4        False       False             False              False   \n",
      "\n",
      "   whole wheat rice   yams  yogurt cake  zucchini  \n",
      "0             False   True        False     False  \n",
      "1             False  False        False     False  \n",
      "2             False  False        False     False  \n",
      "3             False  False        False     False  \n",
      "4              True  False        False     False  \n",
      "\n",
      "[5 rows x 120 columns]\n"
     ]
    }
   ],
   "source": [
    "# Transaction Encoding\n",
    "print(\"\\n🔹 Performing one-hot encoding...\")\n",
    "te = TransactionEncoder()\n",
    "te_ary = te.fit(transactions).transform(transactions)\n",
    "df_encoded = pd.DataFrame(te_ary, columns=te.columns_)\n",
    "\n",
    "print(df_encoded.head())"
   ]
  },
  {
   "cell_type": "code",
   "execution_count": 24,
   "id": "581bfffb-002e-40a0-ba71-32f47dc7e9a6",
   "metadata": {},
   "outputs": [
    {
     "name": "stdout",
     "output_type": "stream",
     "text": [
      " Found 103 frequent itemsets.\n",
      " Sample frequent itemsets:\n",
      "    support    itemsets\n",
      "0  0.020397   (almonds)\n",
      "1  0.033329   (avocado)\n",
      "2  0.033729  (brownies)\n",
      "3  0.087188   (burgers)\n",
      "4  0.030129    (butter)\n"
     ]
    }
   ],
   "source": [
    "# Run Apriori\n",
    "frequent_itemsets = apriori(df_encoded, min_support=0.02, use_colnames=True)\n",
    "print(f\" Found {len(frequent_itemsets)} frequent itemsets.\")\n",
    "print(\" Sample frequent itemsets:\")\n",
    "print(frequent_itemsets.head())"
   ]
  },
  {
   "cell_type": "code",
   "execution_count": 26,
   "id": "bada11dd-b4a6-4bbd-9f92-ca28ee08ba43",
   "metadata": {},
   "outputs": [
    {
     "name": "stdout",
     "output_type": "stream",
     "text": [
      " Generated 94 rules.\n",
      "\n",
      " Top 10 rules:\n",
      "       antecedents      consequents   support  confidence      lift\n",
      "0           (eggs)        (burgers)  0.028796    0.160237  1.837830\n",
      "1        (burgers)           (eggs)  0.028796    0.330275  1.837830\n",
      "2   (french fries)        (burgers)  0.021997    0.128705  1.476173\n",
      "3        (burgers)   (french fries)  0.021997    0.252294  1.476173\n",
      "4  (mineral water)        (burgers)  0.024397    0.102349  1.173883\n",
      "5        (burgers)  (mineral water)  0.024397    0.279817  1.173883\n",
      "6        (burgers)      (spaghetti)  0.021464    0.246177  1.413918\n",
      "7      (spaghetti)        (burgers)  0.021464    0.123277  1.413918\n",
      "8  (mineral water)           (cake)  0.027463    0.115213  1.421397\n",
      "9           (cake)  (mineral water)  0.027463    0.338816  1.421397\n"
     ]
    }
   ],
   "source": [
    "# Generate Association Rules\n",
    "\n",
    "rules = association_rules(frequent_itemsets, metric=\"lift\", min_threshold=1.0)\n",
    "print(f\" Generated {len(rules)} rules.\")\n",
    "print(\"\\n Top 10 rules:\")\n",
    "print(rules[['antecedents', 'consequents', 'support', 'confidence', 'lift']].head(10))"
   ]
  },
  {
   "cell_type": "markdown",
   "id": "69936abf-5da9-43f6-a3c7-85a31533586d",
   "metadata": {},
   "source": [
    "1. What is Lift and why is it important in Association Rules?\n",
    "Lift = (Confidence of Rule) / (Support of Consequent)\n",
    "\n",
    "It tells you how much more likely the consequent is, given the antecedent, compared to its general frequency.\n",
    "\n",
    "Lift > 1: Positive association (useful)\n",
    "\n",
    "Lift = 1: No association\n",
    "\n",
    "Lift < 1: Negative association"
   ]
  },
  {
   "cell_type": "markdown",
   "id": "20c934ed-5170-4d17-8f16-1322222c924a",
   "metadata": {},
   "source": [
    "2. What is Support and Confidence? How do you calculate them?\n",
    "Support: Frequency of itemset appearing in the dataset.\n",
    "\n",
    "Support (𝐴,𝐵) =Transactions containing A and B / Total transactions\n",
    "\n",
    "Confidence: Likelihood that item B is purchased when A is.\n",
    "\n",
    "Confidence(𝐴⇒𝐵)=Support(𝐴,𝐵)/ Support(𝐴)\n",
    " \n"
   ]
  },
  {
   "cell_type": "markdown",
   "id": "f6b8c4be-5c8b-4e10-bd94-1ea1fb45b87e",
   "metadata": {},
   "source": [
    "3. What are some limitations or challenges of Association Rule Mining?\n",
    "\n",
    "Too many rules: Difficult to interpret\n",
    "\n",
    "Sparse data: Can lead to weak patterns\n",
    "\n",
    "Requires threshold tuning: Bad thresholds → meaningless rules\n",
    "\n",
    "Ignores sequence/timing: Doesn’t account for when items are bought\n",
    "\n",
    "Binary format only: No support for quantity or price unless extended\n",
    "\n"
   ]
  },
  {
   "cell_type": "code",
   "execution_count": null,
   "id": "4f13ad8e-225c-4864-bbb5-51c5d49ce011",
   "metadata": {},
   "outputs": [],
   "source": []
  }
 ],
 "metadata": {
  "kernelspec": {
   "display_name": "Python [conda env:base] *",
   "language": "python",
   "name": "conda-base-py"
  },
  "language_info": {
   "codemirror_mode": {
    "name": "ipython",
    "version": 3
   },
   "file_extension": ".py",
   "mimetype": "text/x-python",
   "name": "python",
   "nbconvert_exporter": "python",
   "pygments_lexer": "ipython3",
   "version": "3.12.7"
  }
 },
 "nbformat": 4,
 "nbformat_minor": 5
}
